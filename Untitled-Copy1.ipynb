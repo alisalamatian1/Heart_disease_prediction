{
 "cells": [
  {
   "cell_type": "markdown",
   "metadata": {},
   "source": [
    "# Predicting Heart Disease Using Classification "
   ]
  },
  {
   "cell_type": "markdown",
   "metadata": {},
   "source": [
    "## Introduction \n",
    "\n",
    "Cardiovascular diseases (CVDs) are the leading cause of death globally, taking an estimated 17.9 million lives each year. One of the best ways to reduce the mortality and severity of heart diseases is early detection of the same in an individual. In this project, we seek to utilise some commonly available medical metrics to predict whether an individual has heart disease or not. \n",
    "\n",
    "The dataset required to train our model has been taken from the UCI Machine Learning Repository and is made up of data collected from 4 different places across the world. The database involves variables such as age, sex, cholestoral and blood pressure etc. and a final column which classifies the presence of heart disease on a scale of 0 to 4 where 0 represents absence of heart disease and 1-4 represnets presence of heart disease. \n"
   ]
  },
  {
   "cell_type": "markdown",
   "metadata": {},
   "source": [
    "## Preliminary exploratory data analysis:"
   ]
  },
  {
   "cell_type": "code",
   "execution_count": 1,
   "metadata": {
    "scrolled": true,
    "tags": []
   },
   "outputs": [
    {
     "name": "stderr",
     "output_type": "stream",
     "text": [
      "── \u001b[1mAttaching packages\u001b[22m ─────────────────────────────────────── tidyverse 1.3.0 ──\n",
      "\n",
      "\u001b[32m✔\u001b[39m \u001b[34mggplot2\u001b[39m 3.3.2     \u001b[32m✔\u001b[39m \u001b[34mpurrr  \u001b[39m 0.3.4\n",
      "\u001b[32m✔\u001b[39m \u001b[34mtibble \u001b[39m 3.0.3     \u001b[32m✔\u001b[39m \u001b[34mdplyr  \u001b[39m 1.0.2\n",
      "\u001b[32m✔\u001b[39m \u001b[34mtidyr  \u001b[39m 1.1.2     \u001b[32m✔\u001b[39m \u001b[34mstringr\u001b[39m 1.4.0\n",
      "\u001b[32m✔\u001b[39m \u001b[34mreadr  \u001b[39m 1.3.1     \u001b[32m✔\u001b[39m \u001b[34mforcats\u001b[39m 0.5.0\n",
      "\n",
      "Warning message:\n",
      "“package ‘ggplot2’ was built under R version 4.0.1”\n",
      "Warning message:\n",
      "“package ‘tibble’ was built under R version 4.0.2”\n",
      "Warning message:\n",
      "“package ‘tidyr’ was built under R version 4.0.2”\n",
      "Warning message:\n",
      "“package ‘dplyr’ was built under R version 4.0.2”\n",
      "── \u001b[1mConflicts\u001b[22m ────────────────────────────────────────── tidyverse_conflicts() ──\n",
      "\u001b[31m✖\u001b[39m \u001b[34mdplyr\u001b[39m::\u001b[32mfilter()\u001b[39m masks \u001b[34mstats\u001b[39m::filter()\n",
      "\u001b[31m✖\u001b[39m \u001b[34mdplyr\u001b[39m::\u001b[32mlag()\u001b[39m    masks \u001b[34mstats\u001b[39m::lag()\n",
      "\n",
      "Warning message:\n",
      "“package ‘tidymodels’ was built under R version 4.0.2”\n",
      "── \u001b[1mAttaching packages\u001b[22m ────────────────────────────────────── tidymodels 0.1.1 ──\n",
      "\n",
      "\u001b[32m✔\u001b[39m \u001b[34mbroom    \u001b[39m 0.7.0      \u001b[32m✔\u001b[39m \u001b[34mrecipes  \u001b[39m 0.1.13\n",
      "\u001b[32m✔\u001b[39m \u001b[34mdials    \u001b[39m 0.0.9      \u001b[32m✔\u001b[39m \u001b[34mrsample  \u001b[39m 0.0.7 \n",
      "\u001b[32m✔\u001b[39m \u001b[34minfer    \u001b[39m 0.5.4      \u001b[32m✔\u001b[39m \u001b[34mtune     \u001b[39m 0.1.1 \n",
      "\u001b[32m✔\u001b[39m \u001b[34mmodeldata\u001b[39m 0.0.2      \u001b[32m✔\u001b[39m \u001b[34mworkflows\u001b[39m 0.2.0 \n",
      "\u001b[32m✔\u001b[39m \u001b[34mparsnip  \u001b[39m 0.1.3      \u001b[32m✔\u001b[39m \u001b[34myardstick\u001b[39m 0.0.7 \n",
      "\n",
      "Warning message:\n",
      "“package ‘broom’ was built under R version 4.0.2”\n",
      "Warning message:\n",
      "“package ‘dials’ was built under R version 4.0.2”\n",
      "Warning message:\n",
      "“package ‘infer’ was built under R version 4.0.3”\n",
      "Warning message:\n",
      "“package ‘modeldata’ was built under R version 4.0.1”\n",
      "Warning message:\n",
      "“package ‘parsnip’ was built under R version 4.0.2”\n",
      "Warning message:\n",
      "“package ‘recipes’ was built under R version 4.0.1”\n",
      "Warning message:\n",
      "“package ‘tune’ was built under R version 4.0.2”\n",
      "Warning message:\n",
      "“package ‘workflows’ was built under R version 4.0.2”\n",
      "Warning message:\n",
      "“package ‘yardstick’ was built under R version 4.0.2”\n",
      "── \u001b[1mConflicts\u001b[22m ───────────────────────────────────────── tidymodels_conflicts() ──\n",
      "\u001b[31m✖\u001b[39m \u001b[34mscales\u001b[39m::\u001b[32mdiscard()\u001b[39m masks \u001b[34mpurrr\u001b[39m::discard()\n",
      "\u001b[31m✖\u001b[39m \u001b[34mdplyr\u001b[39m::\u001b[32mfilter()\u001b[39m   masks \u001b[34mstats\u001b[39m::filter()\n",
      "\u001b[31m✖\u001b[39m \u001b[34mrecipes\u001b[39m::\u001b[32mfixed()\u001b[39m  masks \u001b[34mstringr\u001b[39m::fixed()\n",
      "\u001b[31m✖\u001b[39m \u001b[34mdplyr\u001b[39m::\u001b[32mlag()\u001b[39m      masks \u001b[34mstats\u001b[39m::lag()\n",
      "\u001b[31m✖\u001b[39m \u001b[34myardstick\u001b[39m::\u001b[32mspec()\u001b[39m masks \u001b[34mreadr\u001b[39m::spec()\n",
      "\u001b[31m✖\u001b[39m \u001b[34mrecipes\u001b[39m::\u001b[32mstep()\u001b[39m   masks \u001b[34mstats\u001b[39m::step()\n",
      "\n",
      "\n",
      "Attaching package: ‘gridExtra’\n",
      "\n",
      "\n",
      "The following object is masked from ‘package:dplyr’:\n",
      "\n",
      "    combine\n",
      "\n",
      "\n"
     ]
    }
   ],
   "source": [
    "# loading all the required libraries. \n",
    "library(tidyverse) \n",
    "library(dplyr)\n",
    "library(tidymodels) \n",
    "library(gridExtra)\n",
    "library(repr)"
   ]
  },
  {
   "cell_type": "code",
   "execution_count": 2,
   "metadata": {
    "scrolled": true,
    "tags": []
   },
   "outputs": [
    {
     "name": "stderr",
     "output_type": "stream",
     "text": [
      "Parsed with column specification:\n",
      "cols(\n",
      "  X1 = \u001b[32mcol_double()\u001b[39m,\n",
      "  X2 = \u001b[32mcol_double()\u001b[39m,\n",
      "  X3 = \u001b[32mcol_double()\u001b[39m,\n",
      "  X4 = \u001b[31mcol_character()\u001b[39m,\n",
      "  X5 = \u001b[31mcol_character()\u001b[39m,\n",
      "  X6 = \u001b[31mcol_character()\u001b[39m,\n",
      "  X7 = \u001b[31mcol_character()\u001b[39m,\n",
      "  X8 = \u001b[31mcol_character()\u001b[39m,\n",
      "  X9 = \u001b[31mcol_character()\u001b[39m,\n",
      "  X10 = \u001b[32mcol_double()\u001b[39m,\n",
      "  X11 = \u001b[31mcol_character()\u001b[39m,\n",
      "  X12 = \u001b[31mcol_character()\u001b[39m,\n",
      "  X13 = \u001b[31mcol_character()\u001b[39m,\n",
      "  X14 = \u001b[32mcol_double()\u001b[39m\n",
      ")\n",
      "\n",
      "Parsed with column specification:\n",
      "cols(\n",
      "  X1 = \u001b[32mcol_double()\u001b[39m,\n",
      "  X2 = \u001b[32mcol_double()\u001b[39m,\n",
      "  X3 = \u001b[32mcol_double()\u001b[39m,\n",
      "  X4 = \u001b[31mcol_character()\u001b[39m,\n",
      "  X5 = \u001b[32mcol_double()\u001b[39m,\n",
      "  X6 = \u001b[31mcol_character()\u001b[39m,\n",
      "  X7 = \u001b[31mcol_character()\u001b[39m,\n",
      "  X8 = \u001b[31mcol_character()\u001b[39m,\n",
      "  X9 = \u001b[31mcol_character()\u001b[39m,\n",
      "  X10 = \u001b[31mcol_character()\u001b[39m,\n",
      "  X11 = \u001b[31mcol_character()\u001b[39m,\n",
      "  X12 = \u001b[31mcol_character()\u001b[39m,\n",
      "  X13 = \u001b[31mcol_character()\u001b[39m,\n",
      "  X14 = \u001b[32mcol_double()\u001b[39m\n",
      ")\n",
      "\n",
      "Parsed with column specification:\n",
      "cols(\n",
      "  X1 = \u001b[32mcol_double()\u001b[39m,\n",
      "  X2 = \u001b[32mcol_double()\u001b[39m,\n",
      "  X3 = \u001b[32mcol_double()\u001b[39m,\n",
      "  X4 = \u001b[32mcol_double()\u001b[39m,\n",
      "  X5 = \u001b[32mcol_double()\u001b[39m,\n",
      "  X6 = \u001b[32mcol_double()\u001b[39m,\n",
      "  X7 = \u001b[32mcol_double()\u001b[39m,\n",
      "  X8 = \u001b[32mcol_double()\u001b[39m,\n",
      "  X9 = \u001b[32mcol_double()\u001b[39m,\n",
      "  X10 = \u001b[32mcol_double()\u001b[39m,\n",
      "  X11 = \u001b[32mcol_double()\u001b[39m,\n",
      "  X12 = \u001b[31mcol_character()\u001b[39m,\n",
      "  X13 = \u001b[31mcol_character()\u001b[39m,\n",
      "  X14 = \u001b[32mcol_double()\u001b[39m\n",
      ")\n",
      "\n",
      "Parsed with column specification:\n",
      "cols(\n",
      "  X1 = \u001b[32mcol_double()\u001b[39m,\n",
      "  X2 = \u001b[32mcol_double()\u001b[39m,\n",
      "  X3 = \u001b[32mcol_double()\u001b[39m,\n",
      "  X4 = \u001b[31mcol_character()\u001b[39m,\n",
      "  X5 = \u001b[31mcol_character()\u001b[39m,\n",
      "  X6 = \u001b[31mcol_character()\u001b[39m,\n",
      "  X7 = \u001b[32mcol_double()\u001b[39m,\n",
      "  X8 = \u001b[31mcol_character()\u001b[39m,\n",
      "  X9 = \u001b[31mcol_character()\u001b[39m,\n",
      "  X10 = \u001b[31mcol_character()\u001b[39m,\n",
      "  X11 = \u001b[31mcol_character()\u001b[39m,\n",
      "  X12 = \u001b[31mcol_character()\u001b[39m,\n",
      "  X13 = \u001b[31mcol_character()\u001b[39m,\n",
      "  X14 = \u001b[32mcol_double()\u001b[39m\n",
      ")\n",
      "\n"
     ]
    },
    {
     "data": {
      "text/html": [
       "<table>\n",
       "<caption>A tibble: 6 × 14</caption>\n",
       "<thead>\n",
       "\t<tr><th scope=col>age</th><th scope=col>sex</th><th scope=col>cp</th><th scope=col>trestbps</th><th scope=col>chol</th><th scope=col>fbs</th><th scope=col>restecg</th><th scope=col>thalach</th><th scope=col>exang</th><th scope=col>oldpeak</th><th scope=col>slope</th><th scope=col>ca</th><th scope=col>thal</th><th scope=col>num</th></tr>\n",
       "\t<tr><th scope=col>&lt;dbl&gt;</th><th scope=col>&lt;dbl&gt;</th><th scope=col>&lt;dbl&gt;</th><th scope=col>&lt;chr&gt;</th><th scope=col>&lt;chr&gt;</th><th scope=col>&lt;chr&gt;</th><th scope=col>&lt;chr&gt;</th><th scope=col>&lt;chr&gt;</th><th scope=col>&lt;chr&gt;</th><th scope=col>&lt;chr&gt;</th><th scope=col>&lt;chr&gt;</th><th scope=col>&lt;chr&gt;</th><th scope=col>&lt;chr&gt;</th><th scope=col>&lt;dbl&gt;</th></tr>\n",
       "</thead>\n",
       "<tbody>\n",
       "\t<tr><td>28</td><td>1</td><td>2</td><td>130</td><td>132</td><td>0</td><td>2</td><td>185</td><td>0</td><td>0</td><td>?</td><td>?</td><td>?</td><td>0</td></tr>\n",
       "\t<tr><td>29</td><td>1</td><td>2</td><td>120</td><td>243</td><td>0</td><td>0</td><td>160</td><td>0</td><td>0</td><td>?</td><td>?</td><td>?</td><td>0</td></tr>\n",
       "\t<tr><td>29</td><td>1</td><td>2</td><td>140</td><td>?  </td><td>0</td><td>0</td><td>170</td><td>0</td><td>0</td><td>?</td><td>?</td><td>?</td><td>0</td></tr>\n",
       "\t<tr><td>30</td><td>0</td><td>1</td><td>170</td><td>237</td><td>0</td><td>1</td><td>170</td><td>0</td><td>0</td><td>?</td><td>?</td><td>6</td><td>0</td></tr>\n",
       "\t<tr><td>31</td><td>0</td><td>2</td><td>100</td><td>219</td><td>0</td><td>1</td><td>150</td><td>0</td><td>0</td><td>?</td><td>?</td><td>?</td><td>0</td></tr>\n",
       "\t<tr><td>32</td><td>0</td><td>2</td><td>105</td><td>198</td><td>0</td><td>0</td><td>165</td><td>0</td><td>0</td><td>?</td><td>?</td><td>?</td><td>0</td></tr>\n",
       "</tbody>\n",
       "</table>\n"
      ],
      "text/latex": [
       "A tibble: 6 × 14\n",
       "\\begin{tabular}{llllllllllllll}\n",
       " age & sex & cp & trestbps & chol & fbs & restecg & thalach & exang & oldpeak & slope & ca & thal & num\\\\\n",
       " <dbl> & <dbl> & <dbl> & <chr> & <chr> & <chr> & <chr> & <chr> & <chr> & <chr> & <chr> & <chr> & <chr> & <dbl>\\\\\n",
       "\\hline\n",
       "\t 28 & 1 & 2 & 130 & 132 & 0 & 2 & 185 & 0 & 0 & ? & ? & ? & 0\\\\\n",
       "\t 29 & 1 & 2 & 120 & 243 & 0 & 0 & 160 & 0 & 0 & ? & ? & ? & 0\\\\\n",
       "\t 29 & 1 & 2 & 140 & ?   & 0 & 0 & 170 & 0 & 0 & ? & ? & ? & 0\\\\\n",
       "\t 30 & 0 & 1 & 170 & 237 & 0 & 1 & 170 & 0 & 0 & ? & ? & 6 & 0\\\\\n",
       "\t 31 & 0 & 2 & 100 & 219 & 0 & 1 & 150 & 0 & 0 & ? & ? & ? & 0\\\\\n",
       "\t 32 & 0 & 2 & 105 & 198 & 0 & 0 & 165 & 0 & 0 & ? & ? & ? & 0\\\\\n",
       "\\end{tabular}\n"
      ],
      "text/markdown": [
       "\n",
       "A tibble: 6 × 14\n",
       "\n",
       "| age &lt;dbl&gt; | sex &lt;dbl&gt; | cp &lt;dbl&gt; | trestbps &lt;chr&gt; | chol &lt;chr&gt; | fbs &lt;chr&gt; | restecg &lt;chr&gt; | thalach &lt;chr&gt; | exang &lt;chr&gt; | oldpeak &lt;chr&gt; | slope &lt;chr&gt; | ca &lt;chr&gt; | thal &lt;chr&gt; | num &lt;dbl&gt; |\n",
       "|---|---|---|---|---|---|---|---|---|---|---|---|---|---|\n",
       "| 28 | 1 | 2 | 130 | 132 | 0 | 2 | 185 | 0 | 0 | ? | ? | ? | 0 |\n",
       "| 29 | 1 | 2 | 120 | 243 | 0 | 0 | 160 | 0 | 0 | ? | ? | ? | 0 |\n",
       "| 29 | 1 | 2 | 140 | ?   | 0 | 0 | 170 | 0 | 0 | ? | ? | ? | 0 |\n",
       "| 30 | 0 | 1 | 170 | 237 | 0 | 1 | 170 | 0 | 0 | ? | ? | 6 | 0 |\n",
       "| 31 | 0 | 2 | 100 | 219 | 0 | 1 | 150 | 0 | 0 | ? | ? | ? | 0 |\n",
       "| 32 | 0 | 2 | 105 | 198 | 0 | 0 | 165 | 0 | 0 | ? | ? | ? | 0 |\n",
       "\n"
      ],
      "text/plain": [
       "  age sex cp trestbps chol fbs restecg thalach exang oldpeak slope ca thal num\n",
       "1 28  1   2  130      132  0   2       185     0     0       ?     ?  ?    0  \n",
       "2 29  1   2  120      243  0   0       160     0     0       ?     ?  ?    0  \n",
       "3 29  1   2  140      ?    0   0       170     0     0       ?     ?  ?    0  \n",
       "4 30  0   1  170      237  0   1       170     0     0       ?     ?  6    0  \n",
       "5 31  0   2  100      219  0   1       150     0     0       ?     ?  ?    0  \n",
       "6 32  0   2  105      198  0   0       165     0     0       ?     ?  ?    0  "
      ]
     },
     "metadata": {},
     "output_type": "display_data"
    }
   ],
   "source": [
    "#loading the required datasets and merging them\n",
    "heart_data1 <- read_csv(\"https://archive.ics.uci.edu/ml/machine-learning-databases/heart-disease/processed.hungarian.data\", col_names=FALSE)\n",
    "heart_data2 <- read_csv(\"https://archive.ics.uci.edu/ml/machine-learning-databases/heart-disease/processed.switzerland.data\", col_names=FALSE)\n",
    "heart_data3 <- read_csv(\"https://archive.ics.uci.edu/ml/machine-learning-databases/heart-disease/processed.cleveland.data\", col_names=FALSE)\n",
    "heart_data4 <- read_csv(\"https://archive.ics.uci.edu/ml/machine-learning-databases/heart-disease/processed.va.data\", col_names=FALSE)\n",
    "#merging the data from the various cities \n",
    "heart_data <- rbind (heart_data1, heart_data2, heart_data3, heart_data4)\n",
    "#adding column names to the data \n",
    "colnames(heart_data) <- c(\"age\", \"sex\", \"cp\", \"trestbps\", \"chol\", \"fbs\",  \"restecg\", \"thalach\", \"exang\",  \"oldpeak\", \"slope\",  \"ca\",  \"thal\", \"num\")\n",
    "#viewing the data\n",
    "head(heart_data)"
   ]
  },
  {
   "cell_type": "code",
   "execution_count": 3,
   "metadata": {
    "scrolled": true,
    "tags": []
   },
   "outputs": [
    {
     "name": "stderr",
     "output_type": "stream",
     "text": [
      "Warning message:\n",
      "“Problem with `mutate()` input `trestbps`.\n",
      "\u001b[34mℹ\u001b[39m NAs introduced by coercion\n",
      "\u001b[34mℹ\u001b[39m Input `trestbps` is `as.numeric(trestbps)`.”\n",
      "Warning message in mask$eval_all_mutate(dots[[i]]):\n",
      "“NAs introduced by coercion”\n",
      "Warning message:\n",
      "“Problem with `mutate()` input `chol`.\n",
      "\u001b[34mℹ\u001b[39m NAs introduced by coercion\n",
      "\u001b[34mℹ\u001b[39m Input `chol` is `as.numeric(chol)`.”\n",
      "Warning message in mask$eval_all_mutate(dots[[i]]):\n",
      "“NAs introduced by coercion”\n",
      "Warning message:\n",
      "“Problem with `mutate()` input `fbs`.\n",
      "\u001b[34mℹ\u001b[39m NAs introduced by coercion\n",
      "\u001b[34mℹ\u001b[39m Input `fbs` is `as.numeric(fbs)`.”\n",
      "Warning message in mask$eval_all_mutate(dots[[i]]):\n",
      "“NAs introduced by coercion”\n",
      "Warning message:\n",
      "“Problem with `mutate()` input `restecg`.\n",
      "\u001b[34mℹ\u001b[39m NAs introduced by coercion\n",
      "\u001b[34mℹ\u001b[39m Input `restecg` is `as.numeric(restecg)`.”\n",
      "Warning message in mask$eval_all_mutate(dots[[i]]):\n",
      "“NAs introduced by coercion”\n",
      "Warning message:\n",
      "“Problem with `mutate()` input `thalach`.\n",
      "\u001b[34mℹ\u001b[39m NAs introduced by coercion\n",
      "\u001b[34mℹ\u001b[39m Input `thalach` is `as.numeric(thalach)`.”\n",
      "Warning message in mask$eval_all_mutate(dots[[i]]):\n",
      "“NAs introduced by coercion”\n",
      "Warning message:\n",
      "“Problem with `mutate()` input `exang`.\n",
      "\u001b[34mℹ\u001b[39m NAs introduced by coercion\n",
      "\u001b[34mℹ\u001b[39m Input `exang` is `as.numeric(exang)`.”\n",
      "Warning message in mask$eval_all_mutate(dots[[i]]):\n",
      "“NAs introduced by coercion”\n"
     ]
    },
    {
     "data": {
      "text/html": [
       "<table>\n",
       "<caption>A data.frame: 6 × 10</caption>\n",
       "<thead>\n",
       "\t<tr><th></th><th scope=col>age</th><th scope=col>sex</th><th scope=col>cp</th><th scope=col>trestbps</th><th scope=col>chol</th><th scope=col>fbs</th><th scope=col>restecg</th><th scope=col>thalach</th><th scope=col>exang</th><th scope=col>heart_disease</th></tr>\n",
       "\t<tr><th></th><th scope=col>&lt;dbl&gt;</th><th scope=col>&lt;dbl&gt;</th><th scope=col>&lt;dbl&gt;</th><th scope=col>&lt;dbl&gt;</th><th scope=col>&lt;dbl&gt;</th><th scope=col>&lt;dbl&gt;</th><th scope=col>&lt;dbl&gt;</th><th scope=col>&lt;dbl&gt;</th><th scope=col>&lt;dbl&gt;</th><th scope=col>&lt;fct&gt;</th></tr>\n",
       "</thead>\n",
       "<tbody>\n",
       "\t<tr><th scope=row>1</th><td>28</td><td>1</td><td>2</td><td>130</td><td>132</td><td>0</td><td>2</td><td>185</td><td>0</td><td>N</td></tr>\n",
       "\t<tr><th scope=row>2</th><td>29</td><td>1</td><td>2</td><td>120</td><td>243</td><td>0</td><td>0</td><td>160</td><td>0</td><td>N</td></tr>\n",
       "\t<tr><th scope=row>3</th><td>29</td><td>1</td><td>2</td><td>140</td><td> NA</td><td>0</td><td>0</td><td>170</td><td>0</td><td>N</td></tr>\n",
       "\t<tr><th scope=row>4</th><td>30</td><td>0</td><td>1</td><td>170</td><td>237</td><td>0</td><td>1</td><td>170</td><td>0</td><td>N</td></tr>\n",
       "\t<tr><th scope=row>5</th><td>31</td><td>0</td><td>2</td><td>100</td><td>219</td><td>0</td><td>1</td><td>150</td><td>0</td><td>N</td></tr>\n",
       "\t<tr><th scope=row>6</th><td>32</td><td>0</td><td>2</td><td>105</td><td>198</td><td>0</td><td>0</td><td>165</td><td>0</td><td>N</td></tr>\n",
       "</tbody>\n",
       "</table>\n"
      ],
      "text/latex": [
       "A data.frame: 6 × 10\n",
       "\\begin{tabular}{r|llllllllll}\n",
       "  & age & sex & cp & trestbps & chol & fbs & restecg & thalach & exang & heart\\_disease\\\\\n",
       "  & <dbl> & <dbl> & <dbl> & <dbl> & <dbl> & <dbl> & <dbl> & <dbl> & <dbl> & <fct>\\\\\n",
       "\\hline\n",
       "\t1 & 28 & 1 & 2 & 130 & 132 & 0 & 2 & 185 & 0 & N\\\\\n",
       "\t2 & 29 & 1 & 2 & 120 & 243 & 0 & 0 & 160 & 0 & N\\\\\n",
       "\t3 & 29 & 1 & 2 & 140 &  NA & 0 & 0 & 170 & 0 & N\\\\\n",
       "\t4 & 30 & 0 & 1 & 170 & 237 & 0 & 1 & 170 & 0 & N\\\\\n",
       "\t5 & 31 & 0 & 2 & 100 & 219 & 0 & 1 & 150 & 0 & N\\\\\n",
       "\t6 & 32 & 0 & 2 & 105 & 198 & 0 & 0 & 165 & 0 & N\\\\\n",
       "\\end{tabular}\n"
      ],
      "text/markdown": [
       "\n",
       "A data.frame: 6 × 10\n",
       "\n",
       "| <!--/--> | age &lt;dbl&gt; | sex &lt;dbl&gt; | cp &lt;dbl&gt; | trestbps &lt;dbl&gt; | chol &lt;dbl&gt; | fbs &lt;dbl&gt; | restecg &lt;dbl&gt; | thalach &lt;dbl&gt; | exang &lt;dbl&gt; | heart_disease &lt;fct&gt; |\n",
       "|---|---|---|---|---|---|---|---|---|---|---|\n",
       "| 1 | 28 | 1 | 2 | 130 | 132 | 0 | 2 | 185 | 0 | N |\n",
       "| 2 | 29 | 1 | 2 | 120 | 243 | 0 | 0 | 160 | 0 | N |\n",
       "| 3 | 29 | 1 | 2 | 140 |  NA | 0 | 0 | 170 | 0 | N |\n",
       "| 4 | 30 | 0 | 1 | 170 | 237 | 0 | 1 | 170 | 0 | N |\n",
       "| 5 | 31 | 0 | 2 | 100 | 219 | 0 | 1 | 150 | 0 | N |\n",
       "| 6 | 32 | 0 | 2 | 105 | 198 | 0 | 0 | 165 | 0 | N |\n",
       "\n"
      ],
      "text/plain": [
       "  age sex cp trestbps chol fbs restecg thalach exang heart_disease\n",
       "1 28  1   2  130      132  0   2       185     0     N            \n",
       "2 29  1   2  120      243  0   0       160     0     N            \n",
       "3 29  1   2  140       NA  0   0       170     0     N            \n",
       "4 30  0   1  170      237  0   1       170     0     N            \n",
       "5 31  0   2  100      219  0   1       150     0     N            \n",
       "6 32  0   2  105      198  0   0       165     0     N            "
      ]
     },
     "metadata": {},
     "output_type": "display_data"
    }
   ],
   "source": [
    "#tidying the data further by modifying num column to show weather the patient has heart disease or not\n",
    "num <- heart_data %>%\n",
    "    select (num) %>%\n",
    "    mutate (num = as.character (num))\n",
    "num [num == \"1\"] <- \"Y\"\n",
    "num [num == \"2\"] <- \"Y\"\n",
    "num [num == \"3\"] <- \"Y\"\n",
    "num [num == \"4\"] <- \"Y\"\n",
    "num [num == \"0\"] <- \"N\"\n",
    "num <- num %>%\n",
    " mutate (num = as_factor (num))\n",
    "#selecting the required columns \n",
    "heart_data_selected <- heart_data%>%\n",
    "    select (age: exang)\n",
    "#merging the data again \n",
    "heart_data_merged <- cbind(heart_data_selected, num) %>%\n",
    "    rename (\"heart_disease\" = \"num\")\n",
    "#changing the data types of some columns \n",
    "heart_data_final <- heart_data_merged %>%\n",
    "     mutate (trestbps = as.numeric (trestbps),\n",
    "            chol = as.numeric (chol),\n",
    "            fbs = as.numeric (fbs),\n",
    "            restecg = as.numeric (restecg),\n",
    "            thalach = as.numeric (thalach),\n",
    "            exang = as.numeric (exang))\n",
    "head(heart_data_final)"
   ]
  },
  {
   "cell_type": "code",
   "execution_count": 4,
   "metadata": {},
   "outputs": [],
   "source": [
    "#spliting the data into training and testing \n",
    "set.seed(1)\n",
    "heart_data_split <- initial_split(heart_data_final, prop=.75, strata = heart_disease)\n",
    "heart_data_training <- training(heart_data_split) \n",
    "heart_data_testing <- testing(heart_data_split)"
   ]
  },
  {
   "cell_type": "code",
   "execution_count": 8,
   "metadata": {},
   "outputs": [
    {
     "data": {
      "text/html": [
       "<table>\n",
       "<caption>A tibble: 9 × 2</caption>\n",
       "<thead>\n",
       "\t<tr><th scope=col>predictors</th><th scope=col>mean</th></tr>\n",
       "\t<tr><th scope=col>&lt;chr&gt;</th><th scope=col>&lt;dbl&gt;</th></tr>\n",
       "</thead>\n",
       "<tbody>\n",
       "\t<tr><td>age     </td><td> 53.6512301</td></tr>\n",
       "\t<tr><td>sex     </td><td>  0.7901592</td></tr>\n",
       "\t<tr><td>cp      </td><td>  3.2416787</td></tr>\n",
       "\t<tr><td>trestbps</td><td>132.2885802</td></tr>\n",
       "\t<tr><td>chol    </td><td>197.4347826</td></tr>\n",
       "\t<tr><td>fbs     </td><td>  0.1666667</td></tr>\n",
       "\t<tr><td>restecg </td><td>  0.6255443</td></tr>\n",
       "\t<tr><td>thalach </td><td>137.5506135</td></tr>\n",
       "\t<tr><td>exang   </td><td>  0.3834356</td></tr>\n",
       "</tbody>\n",
       "</table>\n"
      ],
      "text/latex": [
       "A tibble: 9 × 2\n",
       "\\begin{tabular}{ll}\n",
       " predictors & mean\\\\\n",
       " <chr> & <dbl>\\\\\n",
       "\\hline\n",
       "\t age      &  53.6512301\\\\\n",
       "\t sex      &   0.7901592\\\\\n",
       "\t cp       &   3.2416787\\\\\n",
       "\t trestbps & 132.2885802\\\\\n",
       "\t chol     & 197.4347826\\\\\n",
       "\t fbs      &   0.1666667\\\\\n",
       "\t restecg  &   0.6255443\\\\\n",
       "\t thalach  & 137.5506135\\\\\n",
       "\t exang    &   0.3834356\\\\\n",
       "\\end{tabular}\n"
      ],
      "text/markdown": [
       "\n",
       "A tibble: 9 × 2\n",
       "\n",
       "| predictors &lt;chr&gt; | mean &lt;dbl&gt; |\n",
       "|---|---|\n",
       "| age      |  53.6512301 |\n",
       "| sex      |   0.7901592 |\n",
       "| cp       |   3.2416787 |\n",
       "| trestbps | 132.2885802 |\n",
       "| chol     | 197.4347826 |\n",
       "| fbs      |   0.1666667 |\n",
       "| restecg  |   0.6255443 |\n",
       "| thalach  | 137.5506135 |\n",
       "| exang    |   0.3834356 |\n",
       "\n"
      ],
      "text/plain": [
       "  predictors mean       \n",
       "1 age         53.6512301\n",
       "2 sex          0.7901592\n",
       "3 cp           3.2416787\n",
       "4 trestbps   132.2885802\n",
       "5 chol       197.4347826\n",
       "6 fbs          0.1666667\n",
       "7 restecg      0.6255443\n",
       "8 thalach    137.5506135\n",
       "9 exang        0.3834356"
      ]
     },
     "metadata": {},
     "output_type": "display_data"
    },
    {
     "data": {
      "text/html": [
       "<table>\n",
       "<caption>A tibble: 10 × 2</caption>\n",
       "<thead>\n",
       "\t<tr><th scope=col>predictors</th><th scope=col>number_of_nas</th></tr>\n",
       "\t<tr><th scope=col>&lt;chr&gt;</th><th scope=col>&lt;int&gt;</th></tr>\n",
       "</thead>\n",
       "<tbody>\n",
       "\t<tr><td>age          </td><td> 0</td></tr>\n",
       "\t<tr><td>sex          </td><td> 0</td></tr>\n",
       "\t<tr><td>cp           </td><td> 0</td></tr>\n",
       "\t<tr><td>trestbps     </td><td>59</td></tr>\n",
       "\t<tr><td>chol         </td><td>30</td></tr>\n",
       "\t<tr><td>fbs          </td><td>90</td></tr>\n",
       "\t<tr><td>restecg      </td><td> 2</td></tr>\n",
       "\t<tr><td>thalach      </td><td>55</td></tr>\n",
       "\t<tr><td>exang        </td><td>55</td></tr>\n",
       "\t<tr><td>heart_disease</td><td> 0</td></tr>\n",
       "</tbody>\n",
       "</table>\n"
      ],
      "text/latex": [
       "A tibble: 10 × 2\n",
       "\\begin{tabular}{ll}\n",
       " predictors & number\\_of\\_nas\\\\\n",
       " <chr> & <int>\\\\\n",
       "\\hline\n",
       "\t age           &  0\\\\\n",
       "\t sex           &  0\\\\\n",
       "\t cp            &  0\\\\\n",
       "\t trestbps      & 59\\\\\n",
       "\t chol          & 30\\\\\n",
       "\t fbs           & 90\\\\\n",
       "\t restecg       &  2\\\\\n",
       "\t thalach       & 55\\\\\n",
       "\t exang         & 55\\\\\n",
       "\t heart\\_disease &  0\\\\\n",
       "\\end{tabular}\n"
      ],
      "text/markdown": [
       "\n",
       "A tibble: 10 × 2\n",
       "\n",
       "| predictors &lt;chr&gt; | number_of_nas &lt;int&gt; |\n",
       "|---|---|\n",
       "| age           |  0 |\n",
       "| sex           |  0 |\n",
       "| cp            |  0 |\n",
       "| trestbps      | 59 |\n",
       "| chol          | 30 |\n",
       "| fbs           | 90 |\n",
       "| restecg       |  2 |\n",
       "| thalach       | 55 |\n",
       "| exang         | 55 |\n",
       "| heart_disease |  0 |\n",
       "\n"
      ],
      "text/plain": [
       "   predictors    number_of_nas\n",
       "1  age            0           \n",
       "2  sex            0           \n",
       "3  cp             0           \n",
       "4  trestbps      59           \n",
       "5  chol          30           \n",
       "6  fbs           90           \n",
       "7  restecg        2           \n",
       "8  thalach       55           \n",
       "9  exang         55           \n",
       "10 heart_disease  0           "
      ]
     },
     "metadata": {},
     "output_type": "display_data"
    },
    {
     "name": "stderr",
     "output_type": "stream",
     "text": [
      "`summarise()` ungrouping output (override with `.groups` argument)\n",
      "\n"
     ]
    },
    {
     "data": {
      "text/html": [
       "<table>\n",
       "<caption>A tibble: 1 × 10</caption>\n",
       "<thead>\n",
       "\t<tr><th scope=col>age</th><th scope=col>sex</th><th scope=col>cp</th><th scope=col>trestbps</th><th scope=col>chol</th><th scope=col>fbs</th><th scope=col>restecg</th><th scope=col>thalach</th><th scope=col>exang</th><th scope=col>heart_disease</th></tr>\n",
       "\t<tr><th scope=col>&lt;int&gt;</th><th scope=col>&lt;int&gt;</th><th scope=col>&lt;int&gt;</th><th scope=col>&lt;int&gt;</th><th scope=col>&lt;int&gt;</th><th scope=col>&lt;int&gt;</th><th scope=col>&lt;int&gt;</th><th scope=col>&lt;int&gt;</th><th scope=col>&lt;int&gt;</th><th scope=col>&lt;int&gt;</th></tr>\n",
       "</thead>\n",
       "<tbody>\n",
       "\t<tr><td>0</td><td>0</td><td>0</td><td>59</td><td>30</td><td>90</td><td>2</td><td>55</td><td>55</td><td>0</td></tr>\n",
       "</tbody>\n",
       "</table>\n"
      ],
      "text/latex": [
       "A tibble: 1 × 10\n",
       "\\begin{tabular}{llllllllll}\n",
       " age & sex & cp & trestbps & chol & fbs & restecg & thalach & exang & heart\\_disease\\\\\n",
       " <int> & <int> & <int> & <int> & <int> & <int> & <int> & <int> & <int> & <int>\\\\\n",
       "\\hline\n",
       "\t 0 & 0 & 0 & 59 & 30 & 90 & 2 & 55 & 55 & 0\\\\\n",
       "\\end{tabular}\n"
      ],
      "text/markdown": [
       "\n",
       "A tibble: 1 × 10\n",
       "\n",
       "| age &lt;int&gt; | sex &lt;int&gt; | cp &lt;int&gt; | trestbps &lt;int&gt; | chol &lt;int&gt; | fbs &lt;int&gt; | restecg &lt;int&gt; | thalach &lt;int&gt; | exang &lt;int&gt; | heart_disease &lt;int&gt; |\n",
       "|---|---|---|---|---|---|---|---|---|---|\n",
       "| 0 | 0 | 0 | 59 | 30 | 90 | 2 | 55 | 55 | 0 |\n",
       "\n"
      ],
      "text/plain": [
       "  age sex cp trestbps chol fbs restecg thalach exang heart_disease\n",
       "1 0   0   0  59       30   90  2       55      55    0            "
      ]
     },
     "metadata": {},
     "output_type": "display_data"
    },
    {
     "data": {
      "text/html": [
       "<table>\n",
       "<caption>A data.frame: 1 × 9</caption>\n",
       "<thead>\n",
       "\t<tr><th scope=col>age</th><th scope=col>sex</th><th scope=col>cp</th><th scope=col>trestbps</th><th scope=col>chol</th><th scope=col>fbs</th><th scope=col>restecg</th><th scope=col>thalach</th><th scope=col>exang</th></tr>\n",
       "\t<tr><th scope=col>&lt;dbl&gt;</th><th scope=col>&lt;dbl&gt;</th><th scope=col>&lt;dbl&gt;</th><th scope=col>&lt;dbl&gt;</th><th scope=col>&lt;dbl&gt;</th><th scope=col>&lt;dbl&gt;</th><th scope=col>&lt;dbl&gt;</th><th scope=col>&lt;dbl&gt;</th><th scope=col>&lt;dbl&gt;</th></tr>\n",
       "</thead>\n",
       "<tbody>\n",
       "\t<tr><td>53.65123</td><td>0.7901592</td><td>3.241679</td><td>132.2886</td><td>197.4348</td><td>0.1666667</td><td>0.6255443</td><td>137.5506</td><td>0.3834356</td></tr>\n",
       "</tbody>\n",
       "</table>\n"
      ],
      "text/latex": [
       "A data.frame: 1 × 9\n",
       "\\begin{tabular}{lllllllll}\n",
       " age & sex & cp & trestbps & chol & fbs & restecg & thalach & exang\\\\\n",
       " <dbl> & <dbl> & <dbl> & <dbl> & <dbl> & <dbl> & <dbl> & <dbl> & <dbl>\\\\\n",
       "\\hline\n",
       "\t 53.65123 & 0.7901592 & 3.241679 & 132.2886 & 197.4348 & 0.1666667 & 0.6255443 & 137.5506 & 0.3834356\\\\\n",
       "\\end{tabular}\n"
      ],
      "text/markdown": [
       "\n",
       "A data.frame: 1 × 9\n",
       "\n",
       "| age &lt;dbl&gt; | sex &lt;dbl&gt; | cp &lt;dbl&gt; | trestbps &lt;dbl&gt; | chol &lt;dbl&gt; | fbs &lt;dbl&gt; | restecg &lt;dbl&gt; | thalach &lt;dbl&gt; | exang &lt;dbl&gt; |\n",
       "|---|---|---|---|---|---|---|---|---|\n",
       "| 53.65123 | 0.7901592 | 3.241679 | 132.2886 | 197.4348 | 0.1666667 | 0.6255443 | 137.5506 | 0.3834356 |\n",
       "\n"
      ],
      "text/plain": [
       "  age      sex       cp       trestbps chol     fbs       restecg   thalach \n",
       "1 53.65123 0.7901592 3.241679 132.2886 197.4348 0.1666667 0.6255443 137.5506\n",
       "  exang    \n",
       "1 0.3834356"
      ]
     },
     "metadata": {},
     "output_type": "display_data"
    }
   ],
   "source": [
    "#summarizing the data \n",
    "#calculating the mean \n",
    "predictors_mean <- heart_data_training %>%\n",
    "    summarize(across(age:exang, mean, na.rm = TRUE))\n",
    "predictors_mean_final <- pivot_longer(predictors_mean, \n",
    "                               cols = age:exang, \n",
    "                               names_to = \"predictors\",\n",
    "                              values_to = \"mean\")\n",
    "predictors_mean_final\n",
    "#counting the missing data \n",
    "na_count <- map_df(heart_data_final, ~sum(is.na(.)))\n",
    "na_count_final <- pivot_longer(na_count, \n",
    "                               cols = age:heart_disease, \n",
    "                               names_to = \"predictors\",\n",
    "                              values_to = \"number_of_nas\")\n",
    "na_count_final\n",
    "#Proportion of heart disease \n",
    "heart_disease_proportion <- heart_data_training %>%\n",
    "    group_by (heart_disease) %>%\n",
    "    summarize (observation_number = n()) %>%\n",
    "    mutate (percent = 100*observation_number/nrow(heart_data_training))\n",
    "\n",
    "\n",
    "#heart_disease_proportion\n",
    "na_count\n",
    "predictors_mean   "
   ]
  },
  {
   "cell_type": "code",
   "execution_count": 6,
   "metadata": {
    "tags": []
   },
   "outputs": [
    {
     "name": "stderr",
     "output_type": "stream",
     "text": [
      "`stat_bin()` using `bins = 30`. Pick better value with `binwidth`.\n",
      "\n",
      "`stat_bin()` using `bins = 30`. Pick better value with `binwidth`.\n",
      "\n",
      "Warning message:\n",
      "“Removed 43 rows containing non-finite values (stat_bin).”\n",
      "`stat_bin()` using `bins = 30`. Pick better value with `binwidth`.\n",
      "\n",
      "Warning message:\n",
      "“Removed 24 rows containing non-finite values (stat_bin).”\n",
      "`stat_bin()` using `bins = 30`. Pick better value with `binwidth`.\n",
      "\n",
      "Warning message:\n",
      "“Removed 39 rows containing non-finite values (stat_bin).”\n"
     ]
    },
    {
     "data": {
      "image/png": "[encoded data removed]",
      "text/plain": [
       "plot without title"
      ]
     },
     "metadata": {
      "image/png": {
       "height": 480,
       "width": 900
      }
     },
     "output_type": "display_data"
    }
   ],
   "source": [
    "#visualising the data \n",
    "age_plot <- heart_data_training %>% \n",
    "ggplot(aes(x = age, fill = as_factor(heart_disease))) + \n",
    "geom_histogram(position = \"dodge\") + \n",
    "geom_vline(xintercept = 53.5283, linetype=\"dashed\", size = 1.1)+\n",
    "labs(x=\"Age (in years)\", fill = \"Presence of Heart Disease\")\n",
    "trest_bps_plot <- heart_data_training %>% \n",
    "ggplot(aes(x = trestbps, fill = as_factor(heart_disease))) + \n",
    "geom_histogram(position = \"dodge\") +\n",
    "labs(x=\"Resting Blood Pressure\", fill = \"Presence of Heart Disease\")\n",
    "chol_plot <- heart_data_training %>% \n",
    "ggplot(aes(x = chol, fill = as_factor(heart_disease))) + \n",
    "geom_histogram(position = \"dodge\") + \n",
    "labs(x=\"Serum cholestoral in mg/dl\", fill = \"Presence of Heart Disease\")\n",
    "thalach_plot <- heart_data_training %>% \n",
    "ggplot(aes(x = thalach, fill = as_factor(heart_disease))) + \n",
    "geom_histogram(position = \"dodge\") +\n",
    "labs(x = \"Maximum Heart Rate Achieved\", fill = \"Presence of Heart Disease\")\n",
    "#changing the plot size \n",
    "options(repr.plot.height = 8, repr.plot.width=15)\n",
    "#presenting the data in a grid \n",
    "grid.arrange(age_plot, trest_bps_plot, chol_plot, thalach_plot, nrow=2)"
   ]
  },
  {
   "cell_type": "markdown",
   "metadata": {},
   "source": [
    "## Methods \n",
    "The variables we plan on using in our model are: \n",
    "1. Age - As we can see from the visualisation above, the distribution of people with high heart disease is much higher in the 55+ age range. There is definite correlation between age and risk of heart disease. \n",
    "2. "
   ]
  },
  {
   "cell_type": "markdown",
   "metadata": {},
   "source": [
    "## Expected Outcomes and Significance "
   ]
  },
  {
   "cell_type": "code",
   "execution_count": null,
   "metadata": {},
   "outputs": [],
   "source": []
  }
 ],
 "metadata": {
  "kernelspec": {
   "display_name": "R",
   "language": "R",
   "name": "ir"
  },
  "language_info": {
   "codemirror_mode": "r",
   "file_extension": ".r",
   "mimetype": "text/x-r-source",
   "name": "R",
   "pygments_lexer": "r",
   "version": "4.0.0"
  }
 },
 "nbformat": 4,
 "nbformat_minor": 5
}
