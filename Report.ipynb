{
 "cells": [
  {
   "cell_type": "markdown",
   "metadata": {},
   "source": [
    "# Predicting Heart Disease Using Classification \n"
   ]
  },
  {
   "cell_type": "markdown",
   "metadata": {},
   "source": [
    "## Introduction \n",
    "\n",
    "Cardiovascular diseases (CVDs) are the leading cause of death globally, taking an estimated 17.9 million lives each year. One of the best ways to reduce the mortality and severity of heart diseases is early detection in an individual.\n",
    "Our dataset is created by hospitals and institutions from three different countries (Hungarian, Cleveland, and VA). The original database(UCI Machine Learning Repository) involves the variables such as age, sex, chest pain (cp), cholesterol (chol), resting blood pressure (trestbps), maximum heart rate achieved (thalach) etc. and a final column which classifies the presence of heart disease (angiographic disease status) where 0 represents the absence of heart disease and 1-4 represents the presence of heart disease.\n",
    "In this project, we seek to utilize some commonly available medical metrics -- age, maximum heart rate achieved, and cholesterol-- to predict whether an individual has heart disease or not.\n"
   ]
  },
  {
   "cell_type": "markdown",
   "metadata": {},
   "source": [
    "## Preliminary exploratory data analysis:"
   ]
  },
  {
   "cell_type": "markdown",
   "metadata": {},
   "source": [
    "Before beginning the project, we load all the required libraries and also restrict the size of our tables to make sure no particular table takes too much space. "
   ]
  },
  {
   "cell_type": "code",
   "execution_count": null,
   "metadata": {
    "scrolled": true,
    "tags": []
   },
   "outputs": [],
   "source": [
    "# loading all the required libraries. \n",
    "library(tidyverse) \n",
    "library(dplyr)\n",
    "library(tidymodels) \n",
    "library(gridExtra)\n",
    "library(repr)\n",
    "library(GGally)\n",
    "options(repr.matrix.max.rows = 6)\n",
    "set.seed(1)"
   ]
  },
  {
   "cell_type": "markdown",
   "metadata": {},
   "source": [
    "We first examined the four possible data set for our analysis. We chose four different locations to have a better representation of the population and as different locations contribute to different results we can have a well-trained model. \n",
    "we want to have almost equal amount of data from each location in our training and testing set and avoid any unluckiness, such as training out model based on data that are mostly from two locations and testing it on the testing set that mainly includes data from the third one. Therefore, we added the location column, to use it later when spiliting our data into training and testing set.\n",
    "We decided to ignore one of the sub-datasets (heart-data-2, data from switzerland) as the dataset contained numerous missing values for important columns such as cholesterol. \n",
    "The next step was renaming the columns and binding the three data sets together. "
   ]
  },
  {
   "cell_type": "code",
   "execution_count": null,
   "metadata": {
    "scrolled": true,
    "tags": []
   },
   "outputs": [],
   "source": [
    "#Purpose of the cell: loading the required datasets, mutating and merging them\n",
    "heart_data1 <- read_csv(\"https://archive.ics.uci.edu/ml/machine-learning-databases/heart-disease/processed.hungarian.data\", col_names=FALSE)\n",
    "heart_data2 <- read_csv(\"https://archive.ics.uci.edu/ml/machine-learning-databases/heart-disease/processed.switzerland.data\", col_names=FALSE)\n",
    "heart_data3 <- read_csv(\"https://archive.ics.uci.edu/ml/machine-learning-databases/heart-disease/processed.cleveland.data\", col_names=FALSE)\n",
    "heart_data4 <- read_csv(\"https://archive.ics.uci.edu/ml/machine-learning-databases/heart-disease/processed.va.data\", col_names=FALSE)\n",
    "\n",
    "#adding location\n",
    "hungarian_data <- heart_data1 %>%\n",
    "    mutate (location = \"Hungarian\")\n",
    "cleveland_data <- heart_data3 %>%\n",
    "    mutate (location = \"Cleveland\")\n",
    "va_data <- heart_data4 %>%\n",
    "    mutate (location = \"Va\")\n",
    "\n",
    "#merging the data from the various cities \n",
    "heart_data <- rbind (hungarian_data, cleveland_data, va_data)\n",
    "#adding column names to the data \n",
    "colnames(heart_data) <- c(\"age\", \"sex\", \"cp\", \"trestbps\", \"chol\", \"fbs\",  \"restecg\", \"thalach\", \"exang\",  \"oldpeak\", \"slope\",  \"ca\",  \"thal\", \"num\", \"location\")\n",
    "#viewing the data\n",
    "head(heart_data)"
   ]
  },
  {
   "cell_type": "markdown",
   "metadata": {},
   "source": [
    "We continue with tidying the data by altering the “num” from the original dataset and changing the values [0, 4] to either yes or no. In the original dataset, 0 indicates absence of heart-disease and [1,4] all represent presence of the same, just with different magnitude. As we were only concerned with the presence(or absence) of heart disease, we changed the numbers to “yes” or “no”.\n",
    "\n",
    "We then chose our predictors with the following reasoning and based on the figures 1.1 to 2.3 visualized below.\n",
    "\n",
    "Age - People age 65 and older are much more likely than younger people to suffer a heart attack, to have a stroke, or to develop heart disease and heart failure(“Heart Health and Aging”). This can be due to the heart not being able to beat fast enough during physical activity or times of stress as it did earlier or due to the buildup of fatty deposits in the walls of arteries over the years. It is also evident from firgure 1.1 and 2.1 that as age increases, more proportion of people have heart disease; after the dashed line, representing the mean value, the ratio of people with heart disease is higher.\n",
    "\n",
    "Cholesterol: Increased amounts of cholesterol can build up in the wall of your arteries leading to the thinning of the arteries and ultimately leading to less blood flow to the heart muscle(“Cholesterol and Heart Disease”). This can lead to various heart diseases and even heart attacks, in some cases. Similarly, we can see in figures 1.2 and 2.2 that people with cholesterol of over 200 mg/dl are more likely to have heart disease.\n",
    "\n",
    "Maximum Heart Rate Achieved: A higher heart rate is a good thing that leads to greater fitness(“Understanding Your Target Heart Rate”). A higher heart rate means that the heart is functioning well and is able to pump blood quickly and effectively. Lower maximum heart rate means that either the heart is unable to pump blood at higher speeds or that the person is not doing activities that allow their heart rate to reach such levels, in most cases. Figures 1.3 and 2.3 also show that people who did not get to a certain maximum heart rate, around 140, had a significantly higher chance of heart failure.\n",
    "\n",
    "We did not use the rest of the columns because of three main reasons. Firstly, many of the variables were categorical (or binary), such as \"fbs,\" \"cp,\" \"slope,\" and \"thal,\" and as we are using the euclidean distance in the KNN classification model, we cannot be sure what values to assign to each category. For instance, \"fbs\" is either 0 or 1; zero represents fasting blood sugar of less than 120, and one is for more. These numbers are arbitrarily assigned and are not the best indicators of fasting blood sugar, and we cannot easily reassign numbers. Secondly, some of the columns, including \"oldpeak\" and \"ca\" are missing many values. We decided that adding one less correlated predictor is not worth giving up data on more correlated predictors such as maximum heart rate. Lastly, \"oldpeak\" and some of the other variables, such as \"slope,\" are not commonly accessible, and our main goal of this project is to find an algorithm that can detect heart disease based on accessible information. "
   ]
  },
  {
   "cell_type": "code",
   "execution_count": null,
   "metadata": {
    "scrolled": true,
    "tags": []
   },
   "outputs": [],
   "source": [
    "#tidying the data further by modifying num column to show weather the patient has heart disease or not\n",
    "num <- heart_data %>%\n",
    "    select (num) %>%\n",
    "    mutate (num = as.character (num))\n",
    "num [num == \"1\"] <- \"Y\"\n",
    "num [num == \"2\"] <- \"Y\"\n",
    "num [num == \"3\"] <- \"Y\"\n",
    "num [num == \"4\"] <- \"Y\"\n",
    "num [num == \"0\"] <- \"N\"\n",
    "num <- num %>%\n",
    " mutate (num = as_factor (num))\n",
    "\n",
    "# Selecting the predictors \n",
    "heart_data_selected <- heart_data%>%\n",
    "    select (age, chol, thalach, location)\n",
    "#merging the data again \n",
    "heart_data_merged <- cbind(heart_data_selected, num) %>%\n",
    "    rename (\"heart_disease\" = \"num\")\n",
    "#changing the data types of some columns \n",
    "heart_data_final <- heart_data_merged %>%\n",
    "     mutate (chol = as.numeric (chol),\n",
    "            thalach = as.numeric (thalach))           \n",
    "head(heart_data_final)\n",
    "\n",
    "heart_data_final"
   ]
  },
  {
   "cell_type": "markdown",
   "metadata": {},
   "source": [
    "As talked about earlier, to make sure the data is represented(based on their location) proportionally in both the training and testing data. We split the data into different data sets based on the location column that we added earlier. Then, the location specific data was split into testing and training data. Now, we have location specific training and testing data which can be merged together to make up our final testing and training data. \n",
    "Before proceeding with the splitting, we set the seed to ensure the reproducibility of the data as the process of splitting the data into training and testing involves randomness. "
   ]
  },
  {
   "cell_type": "code",
   "execution_count": null,
   "metadata": {},
   "outputs": [],
   "source": [
    "# seperating the data into different data set based on their location\n",
    "set.seed(1)\n",
    "\n",
    "#Omitting the NAs and unnecessary 0s (some data sets put 0 instead of NA) in our data to aid in classification\n",
    "   \n",
    "hungarian_data_cleaned <- heart_data_final %>%\n",
    "    filter (location == \"Hungarian\") %>%\n",
    "    na.omit () %>%\n",
    "    filter (chol != 0)\n",
    "\n",
    "cleveland_data_cleaned <- heart_data_final %>%\n",
    "    filter (location == \"Cleveland\") %>%\n",
    "    na.omit () %>%\n",
    "    filter (chol != 0)\n",
    "\n",
    "va_data_cleaned <- heart_data_final %>%\n",
    "    filter (location == \"Va\") %>%\n",
    "    na.omit () %>%\n",
    "    filter (chol != 0)\n",
    "\n",
    "# spliting the data into training and testing for each of those locations\n",
    "\n",
    "heart_data_split_hung <- initial_split(hungarian_data_cleaned, prop=.75, strata = heart_disease)\n",
    "heart_data_training_hung <- training(heart_data_split_hung) \n",
    "heart_data_testing_hung <- testing(heart_data_split_hung)\n",
    "\n",
    "heart_data_split_clev <- initial_split(cleveland_data_cleaned, prop=.75, strata = heart_disease)\n",
    "heart_data_training_clev <- training(heart_data_split_clev) \n",
    "heart_data_testing_clev <- testing(heart_data_split_clev)\n",
    "\n",
    "heart_data_split_va <- initial_split(va_data_cleaned, prop=.75, strata = heart_disease)\n",
    "heart_data_training_va <- training(heart_data_split_va) \n",
    "heart_data_testing_va <- testing(heart_data_split_va)\n",
    "\n",
    "#putting all of the training-set together\n",
    "heart_data_training <- rbind (heart_data_training_hung, heart_data_training_clev, heart_data_training_va)\n",
    "\n",
    "#putting all of the testing-set together\n",
    "heart_data_testing <- rbind (heart_data_testing_hung, heart_data_testing_clev, heart_data_testing_va)\n",
    "\n"
   ]
  },
  {
   "cell_type": "markdown",
   "metadata": {},
   "source": [
    "Now, we move on to summarising the data. Firstly, we calculated the mean of the three predictors: age, chol, thalach (maximum heart rate). After calculating the mean, we presented it in the form of a table that has been tidied using the pivot longer function to aid in readability. Secondly, we calculated the number of NAs in each of the columns to get an idea of the missing values in our dataset. Lastly, we ascertained the proportion of people with heart disease in our final dataset and proportion of people without heart disease. "
   ]
  },
  {
   "cell_type": "code",
   "execution_count": null,
   "metadata": {},
   "outputs": [],
   "source": [
    "#Goal of the cell: summarizing the data \n",
    "\n",
    "heart_data_cleaned_final <- heart_data_final %>%\n",
    "    select (- location)\n",
    "\n",
    "#calculating the mean \n",
    "predictors_mean <- heart_data_training %>%\n",
    "    summarize(across (age:thalach, mean, na.rm = TRUE))\n",
    "\n",
    "#using pivot_longer to show the mean value of each column in a table\n",
    "predictors_mean_final <- pivot_longer(predictors_mean, \n",
    "                               cols = age:thalach, \n",
    "                               names_to = \"predictors\",\n",
    "                              values_to = \"mean\")\n",
    "\n",
    "#counting the missing data \n",
    "na_count <- map_df(heart_data_cleaned_final, ~sum(is.na(.)))\n",
    "#using pivot_longer to show the number of NAs in a table\n",
    "na_count_final <- pivot_longer(na_count,\n",
    "                               cols = age:heart_disease,\n",
    "                               names_to = \"predictors\",\n",
    "                               values_to = \"number_of_nas\")\n",
    "\n",
    "\n",
    "#Proportion of heart disease \n",
    "heart_disease_proportion <- heart_data_training %>%\n",
    "    group_by (heart_disease) %>%\n",
    "    summarize (observation_number = n()) %>%\n",
    "    mutate (percent = 100*observation_number/nrow(heart_data_training))  "
   ]
  },
  {
   "cell_type": "code",
   "execution_count": null,
   "metadata": {},
   "outputs": [],
   "source": [
    "predictors_mean_final"
   ]
  },
  {
   "cell_type": "markdown",
   "metadata": {},
   "source": [
    "##### Table 1: Calculating the mean of all the predictors used in the analysis "
   ]
  },
  {
   "cell_type": "code",
   "execution_count": null,
   "metadata": {},
   "outputs": [],
   "source": [
    "na_count_final"
   ]
  },
  {
   "cell_type": "markdown",
   "metadata": {},
   "source": [
    "##### Table 2: Calculating the number of rows with missing data in each of the columns"
   ]
  },
  {
   "cell_type": "code",
   "execution_count": null,
   "metadata": {},
   "outputs": [],
   "source": [
    "heart_disease_proportion"
   ]
  },
  {
   "cell_type": "markdown",
   "metadata": {},
   "source": [
    "##### Table 3: Calculating the proportion of \"yes\" and \"no\" within the target variable: the \"heart disease\" column "
   ]
  },
  {
   "cell_type": "markdown",
   "metadata": {},
   "source": [
    "We use ggpairs to see the overall relations between the variables and the target variable."
   ]
  },
  {
   "cell_type": "code",
   "execution_count": null,
   "metadata": {},
   "outputs": [],
   "source": [
    "options(repr.plot.height = 14, repr.plot.width=20)\n",
    "heart_ggpair <- heart_data_training %>% \n",
    "    ggpairs()+\n",
    "    ggtitle (\"The relationships between the predictors\n",
    "Figure.0\") \n",
    "    \n",
    "heart_ggpair"
   ]
  },
  {
   "cell_type": "markdown",
   "metadata": {},
   "source": [
    "As can be seen, the result is not the most effective visualization as the target variable is categorical; therefore, we used scatterplot and histograms to better illustrate the relations and use them to aid in choosing the predictors. Firstly, we visualize the data using scatterplots where we plotted 2 of the three predictors on the axes. Also, the points were coloured based on whether they represented \"yes\" or \"no\" in the heart disease column. This allowed us to gain some insight which was used to select the predictor variables. After the scatterplot, we used histograms to display the distribution of the predictors. Again, we colour-coded the histogram to represent the 'yes' or 'no' under the heart disease column. This reinforced the insight that we got from the earlier scatterplots. "
   ]
  },
  {
   "cell_type": "code",
   "execution_count": null,
   "metadata": {
    "tags": []
   },
   "outputs": [],
   "source": [
    "#visualising the data \n",
    "\n",
    "\n",
    "#changing the plot size \n",
    "options(repr.plot.height = 10, repr.plot.width=17)\n",
    "\n",
    "# part 1: geom-points\n",
    "\n",
    "age_chol <- heart_data_training %>% \n",
    "filter (chol != 0) %>%\n",
    "ggplot(aes(x = age, y = chol, color = heart_disease)) + \n",
    "geom_point(stat = \"identity\", alpha = 0.5)+ \n",
    "labs(x=\"Age (in years)\", y = \"Serum cholestoral in mg/dl\", color = \"Presence of Heart Disease\")+\n",
    "theme (text = element_text (size = 15))+\n",
    "ggtitle(\"Age vs cholestoral\n",
    "Figure 1.1\")+\n",
    "theme_bw()\n",
    "\n",
    "thalach_age <- heart_data_training %>% \n",
    "ggplot(aes(x = thalach, y = age, color = heart_disease)) + \n",
    "geom_point(stat = \"identity\", alpha = 0.5)+\n",
    "labs(x = \"Maximum Heart Rate Achieved\", y= \"Age (in years)\", color = \"Presence of Heart Disease\")+\n",
    "theme (text = element_text (size = 15))+\n",
    "ggtitle(\"Maximum Heart Rate vs Age\n",
    "Figure 1.2\")+\n",
    "theme_bw()\n",
    "\n",
    "chol_thalach <- heart_data_training %>% \n",
    "filter (chol != 0) %>%\n",
    "ggplot(aes(x = chol, y = thalach , color = heart_disease)) + \n",
    "geom_point(stat = \"identity\", alpha = 0.5)+\n",
    "labs(x = \"Serum cholestoral in mg/dl\" , y= \"Maximum Heart Rate Achieved\", color = \"Presence of Heart Disease\")+\n",
    "theme (text = element_text (size = 15))+\n",
    "ggtitle(\"Cholestrol vs Maximum Heart Rate \n",
    "Figure 1.3\")+\n",
    "theme_bw()\n",
    "\n",
    "grid.arrange(age_chol, thalach_age, chol_thalach, nrow=2)\n",
    "\n",
    "# part 2: histograms\n",
    "age_plot <- heart_data_training %>% \n",
    "ggplot(aes(x = age, fill = as_factor(heart_disease))) + \n",
    "geom_histogram(alpha=0.5, position = \"identity\") + \n",
    "geom_vline(xintercept = 52.27308, linetype=\"dashed\", size = 1.1)+\n",
    "labs(x=\"Age (in years)\", fill = \"Presence of Heart Disease\")+\n",
    "theme (text = element_text (size = 15))+\n",
    "ggtitle(\"Age Distribution\n",
    "Figure 2.1\")+\n",
    "theme_bw()\n",
    "\n",
    "chol_plot <- heart_data_training %>% \n",
    "    filter (chol != 0) %>%\n",
    "ggplot(aes(x = chol, fill = as_factor(heart_disease))) + \n",
    "geom_histogram(alpha=0.5, position = \"identity\") + \n",
    "geom_vline(xintercept = 244.27898, linetype=\"dashed\", size = 1.1)+\n",
    "labs(x=\"Serum cholestoral in mg/dl\", fill = \"Presence of Heart Disease\")+\n",
    "theme (text = element_text (size = 15))+\n",
    "ggtitle(\"Cholestrol Distribution\n",
    "Figure 2.2\")+\n",
    "theme_bw()\n",
    "\n",
    "thalach_plot <- heart_data_training %>% \n",
    "ggplot(aes(x = thalach, fill = as_factor(heart_disease))) + \n",
    "geom_histogram(alpha=0.5, position = \"identity\") +\n",
    "geom_vline(xintercept = 141.14342, linetype=\"dashed\", size = 1.1)+\n",
    "labs(x = \"Maximum Heart Rate Achieved\", fill = \"Presence of Heart Disease\")+\n",
    "theme (text = element_text (size = 15))+\n",
    "ggtitle(\"Maximum Heart Rate Distribution\n",
    "Figure 2.3\")+ \n",
    "theme_bw()\n",
    "\n",
    "grid.arrange(age_plot, chol_plot, thalach_plot, nrow=2)\n",
    "\n",
    "\n",
    "# Side notes:\n",
    "# the added dashed lines for histograms represents the mean value of each predictor\n",
    "# the 0 cholestrols are filtered for the purpose of better visualization"
   ]
  },
  {
   "cell_type": "markdown",
   "metadata": {},
   "source": [
    "After the visualization, we moved on to the actual classification part of the project. Firstly, we created a recipe where we specified the predictor variables for the data along with standardizing the data as KNN classification relies on calculating the euclidean distance. Then, we created the spec where we specified the engine, the mode, and the formula that will be used to calculate the distance. "
   ]
  },
  {
   "cell_type": "code",
   "execution_count": null,
   "metadata": {},
   "outputs": [],
   "source": [
    "#make a recipe\n",
    "set.seed(1)\n",
    "\n",
    "\n",
    "heart_recipe <- recipe (heart_disease ~  age + chol + thalach , heart_data_training) %>%\n",
    "    step_scale (all_predictors()) %>%\n",
    "    step_center (all_predictors()) \n",
    "heart_recipe\n",
    "\n",
    "heart_spec <- nearest_neighbor (weight_func = \"rectangular\", neighbors = tune()) %>%\n",
    "    set_engine (\"kknn\") %>%\n",
    "    set_mode (\"classification\")\n",
    "heart_spec\n"
   ]
  },
  {
   "cell_type": "markdown",
   "metadata": {},
   "source": [
    "Next, we created a tibble with various values of K and also created a vfold so that we can do cross validation. This was done to determine the best value of k, which would give us the highest accuracy. Cross validation is done to make sure our accuracy is not affected too much by data that ends in the training and the validation data set. Lastly, we combine it all into a workflow where the recipe and the spec are specified. We then collect the metrics(accuracy) and then plot it to show the accuracy associated with the respective value of K."
   ]
  },
  {
   "cell_type": "code",
   "execution_count": null,
   "metadata": {},
   "outputs": [],
   "source": [
    "set.seed(1)\n",
    "k_table <- tibble (neighbors = seq (1, 25))\n",
    "\n",
    "#\n",
    "heart_vfold <- vfold_cv (heart_data_training, v = 5, strata= heart_disease)\n",
    "\n",
    "heart_workflow <- workflow()%>%\n",
    "    add_recipe (heart_recipe) %>%\n",
    "    add_model (heart_spec) %>%\n",
    "    tune_grid (resamples = heart_vfold, grid = k_table) %>%\n",
    "    collect_metrics () %>%\n",
    "    filter (.metric == \"accuracy\")   \n",
    "\n",
    "heart_max_k <- heart_workflow %>%\n",
    "    select (mean, neighbors) %>%\n",
    "    arrange (desc (mean)) %>%\n",
    "    slice (1) \n",
    "\n",
    "heart_vs_k_plot <- ggplot (heart_workflow, aes (x = neighbors, y = mean)) + \n",
    "        geom_point () +\n",
    "        geom_line () +\n",
    "        labs (x = \"Neighbors\", y = \"accuracy\")+\n",
    "        ggtitle(\"The accuracy associated with k values\n",
    "Figure 3.1\") +\n",
    "        theme (text = element_text (size = 20))+\n",
    "        theme_bw()\n",
    "\n"
   ]
  },
  {
   "cell_type": "code",
   "execution_count": null,
   "metadata": {},
   "outputs": [],
   "source": [
    "heart_workflow"
   ]
  },
  {
   "cell_type": "markdown",
   "metadata": {},
   "source": [
    "##### Table 4: Determining the accuracy of the model at various values of K "
   ]
  },
  {
   "cell_type": "code",
   "execution_count": null,
   "metadata": {},
   "outputs": [],
   "source": [
    "heart_max_k"
   ]
  },
  {
   "cell_type": "markdown",
   "metadata": {},
   "source": [
    "##### Table 5: Determining the Best Value of K "
   ]
  },
  {
   "cell_type": "code",
   "execution_count": null,
   "metadata": {},
   "outputs": [],
   "source": [
    "options(repr.plot.height = 10, repr.plot.width=16)\n",
    "heart_vs_k_plot"
   ]
  },
  {
   "cell_type": "markdown",
   "metadata": {},
   "source": [
    "Lastly, we used the k value with the highest accuracy to train our whole training set. (k = 23 had the highest accuracy of 69%)\n",
    "\n",
    "Next, we used the training model to predict on the testing set. We used the prediction values and the actual observed value to estimate our accuracy, about 66%. Finally, we made a confusion matrix to separately examine how accurate our model predicts \"yes\" and \"no\" values for heart disease."
   ]
  },
  {
   "cell_type": "code",
   "execution_count": null,
   "metadata": {},
   "outputs": [],
   "source": [
    "set.seed(1)\n",
    "knn_spec <- nearest_neighbor(weight_func = \"rectangular\", neighbors = 23) %>%\n",
    "    set_engine(\"kknn\")%>%\n",
    "    set_mode(\"classification\")\n",
    "\n",
    "knn_fit <- workflow()%>%\n",
    "    add_recipe(heart_recipe)%>%\n",
    "    add_model(knn_spec) %>%\n",
    "    fit(data = heart_data_training)\n",
    "\n",
    "heart_test_predictions <- predict(knn_fit, heart_data_testing) %>%\n",
    "  bind_cols(heart_data_testing)\n",
    "\n",
    "\n",
    "heart_test_predictions_estimates <- heart_test_predictions %>%\n",
    "  metrics(truth = heart_disease, estimate = .pred_class)%>%\n",
    "  filter(.metric == \"accuracy\")\n",
    "\n",
    "\n",
    "confusion_metric <- heart_test_predictions %>%\n",
    "    conf_mat(truth = heart_disease, estimate = .pred_class)"
   ]
  },
  {
   "cell_type": "code",
   "execution_count": null,
   "metadata": {},
   "outputs": [],
   "source": [
    "heart_test_predictions_estimates"
   ]
  },
  {
   "cell_type": "markdown",
   "metadata": {},
   "source": [
    "##### Table 6: Accuracy of the model on the testing set."
   ]
  },
  {
   "cell_type": "code",
   "execution_count": null,
   "metadata": {},
   "outputs": [],
   "source": [
    "confusion_metric"
   ]
  },
  {
   "cell_type": "markdown",
   "metadata": {},
   "source": [
    "##### Table 7: Confusion Matrix"
   ]
  },
  {
   "cell_type": "markdown",
   "metadata": {},
   "source": [
    "To visualise the results of our classification, we plotted the testing data coloured with the true values of heart disease on one hand and on the other hand, we plotted the scatterplot but coloured it on the basis of the predictions made by our model. This serves a twofold purpose: \n",
    "1. It allows us to judge the accuracy(or inaccuracy) as we can see the side by side what points were predicted incorrectly by our model. \n",
    "2. Moreover, we can also see how certain predictor variables are influencing the prediction of our model.  For example, in figure 5.1, we can clearly see that as age increases, our model is much more likely to predict \"yes\" to heart disease. "
   ]
  },
  {
   "cell_type": "code",
   "execution_count": null,
   "metadata": {},
   "outputs": [],
   "source": [
    "#Visualization\n",
    "#the actual plot vs the one that we predict\n",
    "options(repr.plot.height = 7, repr.plot.width=22)\n",
    "\n",
    "\n",
    "age_chol_true <- heart_data_testing %>% \n",
    "    ggplot(aes(x = age, y = chol, colour = heart_disease)) + \n",
    "    geom_point(stat = \"identity\", alpha = 0.5)+ \n",
    "    labs(x=\"Age (in years)\", y = \"Serum cholestoral in mg/dl\", colour = \"Heart diseases\")+\n",
    "    theme (text = element_text (size = 15)) +\n",
    "    scale_color_manual(values = c(\"Y\" = \"DarkBlue\", \"N\" = \"Red\")) +\n",
    "    ggtitle (\"Age vs chol the true class value\n",
    "Figure 4.1\")\n",
    "\n",
    "\n",
    "age_chol_pred <- heart_test_predictions %>% \n",
    "    ggplot(aes(x = age, y = chol, color = .pred_class)) + \n",
    "    geom_point(stat = \"identity\", alpha = 0.5)+ \n",
    "    labs(x=\"Age (in years)\", y = \"Serum cholestoral in mg/dl\", colour = \"Predicted Class\")+\n",
    "    theme (text = element_text (size = 15)) +\n",
    "    scale_color_manual(values = c(\"Y\" = \"DarkBlue\", \"N\" = \"Red\")) +\n",
    "    ggtitle (\"Age vs chol the predicted class value\n",
    "Figure 5.1\")\n",
    "\n",
    "\n",
    "grid.arrange(age_chol_true, age_chol_pred, nrow=1)\n",
    "\n",
    "thalach_age_true <- heart_test_predictions %>% \n",
    "    ggplot(aes(x = thalach, y = age, color = heart_disease)) + \n",
    "    geom_point(stat = \"identity\", alpha = 0.5)+\n",
    "    labs(x = \"Maximum Heart Rate Achieved\", y= \"Age (in years)\", color = \"Heart diseases\")+\n",
    "    theme (text = element_text (size = 15)) +\n",
    "    scale_color_manual(values = c(\"Y\" = \"DarkBlue\", \"N\" = \"Red\")) +\n",
    "    ggtitle (\"Maximum heart rate vs age the true class value\n",
    "Figure 4.2\")\n",
    "\n",
    "thalach_age_pred <- heart_test_predictions %>% \n",
    "    ggplot(aes(x = thalach, y = age, color = .pred_class)) + \n",
    "    geom_point(stat = \"identity\", alpha = 0.5)+\n",
    "    labs(x = \"Maximum Heart Rate Achieved\", y= \"Age (in years)\", color = \"Predicted Class\")+\n",
    "    theme (text = element_text (size = 15))+\n",
    "    scale_color_manual(values = c(\"Y\" = \"DarkBlue\", \"N\" = \"Red\")) +\n",
    "    ggtitle (\"Maximum heart rate vs age the predicted class value\n",
    "Figure 5.2\")\n",
    "\n",
    "grid.arrange(thalach_age_true, thalach_age_pred, nrow=1)\n",
    "\n",
    "chol_thalach_true<- heart_test_predictions %>% \n",
    "    ggplot(aes(x = chol, y = thalach , color = heart_disease)) + \n",
    "    geom_point(stat = \"identity\", alpha = 0.5)+\n",
    "    labs(x = \"Serum cholestoral in mg/dl\" , y= \"Maximum Heart Rate Achieved\", color = \"Heart diseases\")+\n",
    "    theme (text = element_text (size = 15))+\n",
    "    scale_color_manual(values = c(\"Y\" = \"DarkBlue\", \"N\" = \"Red\")) +\n",
    "    ggtitle (\"Cholestrol vs maximum hear rate the true class value\n",
    "Figure 4.3\")\n",
    "\n",
    "chol_thalach_pred <- heart_test_predictions %>% \n",
    "    ggplot(aes(x = chol, y = thalach , color = .pred_class)) + \n",
    "    geom_point(stat = \"identity\", alpha = 0.5)+\n",
    "    labs(x = \"Serum cholestoral in mg/dl\" , y= \"Maximum Heart Rate Achieved\", color = \"Predicted Class\")+\n",
    "    theme (text = element_text (size = 15)) +\n",
    "    scale_color_manual(values = c(\"Y\" = \"DarkBlue\", \"N\" = \"Red\")) +\n",
    "    ggtitle (\"Cholestrol vs maximum hear rate the predicted class value\n",
    "Figure 5.3\")\n",
    "\n",
    "grid.arrange(chol_thalach_true, chol_thalach_pred, nrow=1)"
   ]
  },
  {
   "cell_type": "markdown",
   "metadata": {},
   "source": [
    "## Discussion \n",
    "\n",
    "1. We were expecting to find that people with higher age, greater Serum cholesterol, and lower maximum heart rate would be more likely to have heart disease; our final plots clearly reinforce those expectations. More specifically, we can observe that our model predicts that people older than 50, who have a maximum heart rate of lower than 150 and Serum cholesterol greater than 200 mg/d are having heart disease.\n",
    "\n",
    "2. The accuracy of our model is about 65%. The confusion matrix also shows 54 observations were correctly predicted as heart disease, and 58 were correctly predicted as no heart disease. Therefore the classifier labeled 54 + 56 = 110 observations correctly. It also shows that the classifier made some mistakes; in particular, it classified 25 observations as no heart disease when they were truly heart disease and 32 observations as heart disease when they were truly no heart disease. While these results might not seem impressive, we have to consider that it is very hard to predict heart disease(Rawat, Shubhankar. “Heart Disease Prediction.”) Moreover, we are only using accessible information, and we are predicting most of the \"Yes\" cases, which is very valuable because early detection and treatment results in a reduction of the severity and mortality of heart disease. Furthermore, we can conclude from our results that great cholesterol and low heart rate are two causes of heart disease. Both of these factors can be prevented with special care and consultation of a doctor. \n",
    "\n",
    "3. These findings open up many other important questions. Instead of predicting whether someone has heart disease or not, we can move over to predict the possibility of the person having heart disease. This will be much better at reducing mortality as even if the person does not have heart disease, we can see if they are at high risk for the disease and treat accordingly. Another future question is why the suggested factors, cholesterol and maximum heart rate, are causes of heart disease. In our projecty, we established the correlation between factors such as age, cholestrol and heart rate with heart disease, but we propose that the causaul relationship between the predictors and the target variable should be explored to help us find precautions that potentially lead to a significant reduction of heart disease."
   ]
  },
  {
   "cell_type": "markdown",
   "metadata": {},
   "source": [
    "## Citations\n",
    "\n",
    "1. UCI Machine Learning Repository: Data Set, [https://archive.ics.uci.edu/ml/datasets/Heart+Disease](https://archive.ics.uci.edu/ml/datasets/Heart+Disease).\n",
    "2. “Heart Health and Aging.” National Institute on Aging, U.S. Department of Health and Human Services, [https://www.nia.nih.gov/health/heart-health-and-aging](https://www.nia.nih.gov/health/heart-health-and-aging).\n",
    "3. “Cholesterol and Heart Disease.” WebMD, WebMD, [https://www.webmd.com/heart-disease/guide/heart-disease-lower-cholesterol-risk](https://www.webmd.com/heart-disease/guide/heart-disease-lower-cholesterol-risk).\n",
    "4. “Understanding Your Target Heart Rate.” Johns Hopkins Medicine, [https://www.hopkinsmedicine.org/health/wellness-and-prevention/understanding-your-target-heart-rate](https://www.hopkinsmedicine.org/health/wellness-and-prevention/understanding-your-target-heart-rate).\n",
    "5. Rawat, Shubhankar. “Heart Disease Prediction.” Medium, Towards Data Science, 28 June 2021, https://towardsdatascience.com/heart-disease-prediction-73468d630cfc. "
   ]
  }
 ],
 "metadata": {
  "kernelspec": {
   "display_name": "R",
   "language": "R",
   "name": "ir"
  },
  "language_info": {
   "codemirror_mode": "r",
   "file_extension": ".r",
   "mimetype": "text/x-r-source",
   "name": "R",
   "pygments_lexer": "r",
   "version": "4.0.0"
  }
 },
 "nbformat": 4,
 "nbformat_minor": 5
}
