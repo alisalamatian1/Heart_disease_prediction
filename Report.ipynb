{
 "cells": [
  {
   "cell_type": "markdown",
   "metadata": {},
   "source": [
    "# Predicting Heart Disease Using Classification \n"
   ]
  },
  {
   "cell_type": "markdown",
   "metadata": {},
   "source": [
    "## Introduction \n",
    "\n",
    "ardiovascular diseases (CVDs) are the leading cause of death globally, taking an estimated 17.9 million lives each year. One of the best ways to reduce the mortality and severity of heart diseases is early detection in an individual.\n",
    "Our dataset is created by hospitals and institutions from three different countries (Hungarian, Cleveland, and VA) and is taken from the UCI Machine Learning Repository. The original database involves the variables such as age, sex, chest pain (cp), cholesterol (chol), resting blood pressure (trestbps), maximum heart rate achieved (thalach) etc. and a final column which classifies the presence of heart disease (angiographic disease status) where 0 represents the absence of heart disease and 1-4 represents the presence of heart disease.\n",
    "In this project, we seek to utilize some commonly available medical metrics -- age, maximum heart rate achieved, and cholesterol-- to predict whether an individual has heart disease or not.\n"
   ]
  },
  {
   "cell_type": "markdown",
   "metadata": {},
   "source": [
    "## Preliminary exploratory data analysis:"
   ]
  },
  {
   "cell_type": "markdown",
   "metadata": {},
   "source": [
    "Before beginning the project, we load all the required libraries and also restrict the size of our tables to make sure no particular table takes too much space. "
   ]
  },
  {
   "cell_type": "code",
   "execution_count": 1,
   "metadata": {
    "scrolled": true,
    "tags": []
   },
   "outputs": [
    {
     "name": "stderr",
     "output_type": "stream",
     "text": [
      "── \u001b[1mAttaching packages\u001b[22m ─────────────────────────────────────── tidyverse 1.3.0 ──\n",
      "\n",
      "\u001b[32m✔\u001b[39m \u001b[34mggplot2\u001b[39m 3.3.2     \u001b[32m✔\u001b[39m \u001b[34mpurrr  \u001b[39m 0.3.4\n",
      "\u001b[32m✔\u001b[39m \u001b[34mtibble \u001b[39m 3.0.3     \u001b[32m✔\u001b[39m \u001b[34mdplyr  \u001b[39m 1.0.2\n",
      "\u001b[32m✔\u001b[39m \u001b[34mtidyr  \u001b[39m 1.1.2     \u001b[32m✔\u001b[39m \u001b[34mstringr\u001b[39m 1.4.0\n",
      "\u001b[32m✔\u001b[39m \u001b[34mreadr  \u001b[39m 1.3.1     \u001b[32m✔\u001b[39m \u001b[34mforcats\u001b[39m 0.5.0\n",
      "\n",
      "Warning message:\n",
      "“package ‘ggplot2’ was built under R version 4.0.1”\n",
      "Warning message:\n",
      "“package ‘tibble’ was built under R version 4.0.2”\n",
      "Warning message:\n",
      "“package ‘tidyr’ was built under R version 4.0.2”\n",
      "Warning message:\n",
      "“package ‘dplyr’ was built under R version 4.0.2”\n",
      "── \u001b[1mConflicts\u001b[22m ────────────────────────────────────────── tidyverse_conflicts() ──\n",
      "\u001b[31m✖\u001b[39m \u001b[34mdplyr\u001b[39m::\u001b[32mfilter()\u001b[39m masks \u001b[34mstats\u001b[39m::filter()\n",
      "\u001b[31m✖\u001b[39m \u001b[34mdplyr\u001b[39m::\u001b[32mlag()\u001b[39m    masks \u001b[34mstats\u001b[39m::lag()\n",
      "\n",
      "Warning message:\n",
      "“package ‘tidymodels’ was built under R version 4.0.2”\n",
      "── \u001b[1mAttaching packages\u001b[22m ────────────────────────────────────── tidymodels 0.1.1 ──\n",
      "\n",
      "\u001b[32m✔\u001b[39m \u001b[34mbroom    \u001b[39m 0.7.0      \u001b[32m✔\u001b[39m \u001b[34mrecipes  \u001b[39m 0.1.13\n",
      "\u001b[32m✔\u001b[39m \u001b[34mdials    \u001b[39m 0.0.9      \u001b[32m✔\u001b[39m \u001b[34mrsample  \u001b[39m 0.0.7 \n",
      "\u001b[32m✔\u001b[39m \u001b[34minfer    \u001b[39m 0.5.4      \u001b[32m✔\u001b[39m \u001b[34mtune     \u001b[39m 0.1.1 \n",
      "\u001b[32m✔\u001b[39m \u001b[34mmodeldata\u001b[39m 0.0.2      \u001b[32m✔\u001b[39m \u001b[34mworkflows\u001b[39m 0.2.0 \n",
      "\u001b[32m✔\u001b[39m \u001b[34mparsnip  \u001b[39m 0.1.3      \u001b[32m✔\u001b[39m \u001b[34myardstick\u001b[39m 0.0.7 \n",
      "\n",
      "Warning message:\n",
      "“package ‘broom’ was built under R version 4.0.2”\n",
      "Warning message:\n",
      "“package ‘dials’ was built under R version 4.0.2”\n",
      "Warning message:\n",
      "“package ‘infer’ was built under R version 4.0.3”\n",
      "Warning message:\n",
      "“package ‘modeldata’ was built under R version 4.0.1”\n",
      "Warning message:\n",
      "“package ‘parsnip’ was built under R version 4.0.2”\n",
      "Warning message:\n",
      "“package ‘recipes’ was built under R version 4.0.1”\n",
      "Warning message:\n",
      "“package ‘tune’ was built under R version 4.0.2”\n",
      "Warning message:\n",
      "“package ‘workflows’ was built under R version 4.0.2”\n",
      "Warning message:\n",
      "“package ‘yardstick’ was built under R version 4.0.2”\n",
      "── \u001b[1mConflicts\u001b[22m ───────────────────────────────────────── tidymodels_conflicts() ──\n",
      "\u001b[31m✖\u001b[39m \u001b[34mscales\u001b[39m::\u001b[32mdiscard()\u001b[39m masks \u001b[34mpurrr\u001b[39m::discard()\n",
      "\u001b[31m✖\u001b[39m \u001b[34mdplyr\u001b[39m::\u001b[32mfilter()\u001b[39m   masks \u001b[34mstats\u001b[39m::filter()\n",
      "\u001b[31m✖\u001b[39m \u001b[34mrecipes\u001b[39m::\u001b[32mfixed()\u001b[39m  masks \u001b[34mstringr\u001b[39m::fixed()\n",
      "\u001b[31m✖\u001b[39m \u001b[34mdplyr\u001b[39m::\u001b[32mlag()\u001b[39m      masks \u001b[34mstats\u001b[39m::lag()\n",
      "\u001b[31m✖\u001b[39m \u001b[34myardstick\u001b[39m::\u001b[32mspec()\u001b[39m masks \u001b[34mreadr\u001b[39m::spec()\n",
      "\u001b[31m✖\u001b[39m \u001b[34mrecipes\u001b[39m::\u001b[32mstep()\u001b[39m   masks \u001b[34mstats\u001b[39m::step()\n",
      "\n",
      "\n",
      "Attaching package: ‘gridExtra’\n",
      "\n",
      "\n",
      "The following object is masked from ‘package:dplyr’:\n",
      "\n",
      "    combine\n",
      "\n",
      "\n"
     ]
    }
   ],
   "source": [
    "# loading all the required libraries. \n",
    "library(tidyverse) \n",
    "library(dplyr)\n",
    "library(tidymodels) \n",
    "library(gridExtra)\n",
    "library(repr)\n",
    "options(repr.matrix.max.rows = 6)\n",
    "set.seed(1)"
   ]
  },
  {
   "cell_type": "markdown",
   "metadata": {},
   "source": [
    "We first examined the four possible data set for our analysis. We chose four different locations to have a better representation of the population and as different locations contribute to different results we can have a better estimate. Moreover, more data is usually helps to have a better training model.\n",
    "we want to have almost equal amount of data from each location in our training and testing set and avoid any unluckiness, such as training out model based on data that are mostly from two locations and testing it on the testing set that mainly includes the third one. Therefore, we added the location column, to use it later when spiliting our data into training and testing set.\n",
    "We decided to ignore one of the sub-datasets (heart-data-2, data from switzerland) as the dataset contained numerous missing values for important columns such as cholesterol. \n",
    "The next step was renaming the columns and binding the three data sets together. "
   ]
  },
  {
   "cell_type": "code",
   "execution_count": 2,
   "metadata": {
    "scrolled": true,
    "tags": []
   },
   "outputs": [
    {
     "name": "stderr",
     "output_type": "stream",
     "text": [
      "Parsed with column specification:\n",
      "cols(\n",
      "  X1 = \u001b[32mcol_double()\u001b[39m,\n",
      "  X2 = \u001b[32mcol_double()\u001b[39m,\n",
      "  X3 = \u001b[32mcol_double()\u001b[39m,\n",
      "  X4 = \u001b[31mcol_character()\u001b[39m,\n",
      "  X5 = \u001b[31mcol_character()\u001b[39m,\n",
      "  X6 = \u001b[31mcol_character()\u001b[39m,\n",
      "  X7 = \u001b[31mcol_character()\u001b[39m,\n",
      "  X8 = \u001b[31mcol_character()\u001b[39m,\n",
      "  X9 = \u001b[31mcol_character()\u001b[39m,\n",
      "  X10 = \u001b[32mcol_double()\u001b[39m,\n",
      "  X11 = \u001b[31mcol_character()\u001b[39m,\n",
      "  X12 = \u001b[31mcol_character()\u001b[39m,\n",
      "  X13 = \u001b[31mcol_character()\u001b[39m,\n",
      "  X14 = \u001b[32mcol_double()\u001b[39m\n",
      ")\n",
      "\n",
      "Parsed with column specification:\n",
      "cols(\n",
      "  X1 = \u001b[32mcol_double()\u001b[39m,\n",
      "  X2 = \u001b[32mcol_double()\u001b[39m,\n",
      "  X3 = \u001b[32mcol_double()\u001b[39m,\n",
      "  X4 = \u001b[31mcol_character()\u001b[39m,\n",
      "  X5 = \u001b[32mcol_double()\u001b[39m,\n",
      "  X6 = \u001b[31mcol_character()\u001b[39m,\n",
      "  X7 = \u001b[31mcol_character()\u001b[39m,\n",
      "  X8 = \u001b[31mcol_character()\u001b[39m,\n",
      "  X9 = \u001b[31mcol_character()\u001b[39m,\n",
      "  X10 = \u001b[31mcol_character()\u001b[39m,\n",
      "  X11 = \u001b[31mcol_character()\u001b[39m,\n",
      "  X12 = \u001b[31mcol_character()\u001b[39m,\n",
      "  X13 = \u001b[31mcol_character()\u001b[39m,\n",
      "  X14 = \u001b[32mcol_double()\u001b[39m\n",
      ")\n",
      "\n",
      "Parsed with column specification:\n",
      "cols(\n",
      "  X1 = \u001b[32mcol_double()\u001b[39m,\n",
      "  X2 = \u001b[32mcol_double()\u001b[39m,\n",
      "  X3 = \u001b[32mcol_double()\u001b[39m,\n",
      "  X4 = \u001b[32mcol_double()\u001b[39m,\n",
      "  X5 = \u001b[32mcol_double()\u001b[39m,\n",
      "  X6 = \u001b[32mcol_double()\u001b[39m,\n",
      "  X7 = \u001b[32mcol_double()\u001b[39m,\n",
      "  X8 = \u001b[32mcol_double()\u001b[39m,\n",
      "  X9 = \u001b[32mcol_double()\u001b[39m,\n",
      "  X10 = \u001b[32mcol_double()\u001b[39m,\n",
      "  X11 = \u001b[32mcol_double()\u001b[39m,\n",
      "  X12 = \u001b[31mcol_character()\u001b[39m,\n",
      "  X13 = \u001b[31mcol_character()\u001b[39m,\n",
      "  X14 = \u001b[32mcol_double()\u001b[39m\n",
      ")\n",
      "\n",
      "Parsed with column specification:\n",
      "cols(\n",
      "  X1 = \u001b[32mcol_double()\u001b[39m,\n",
      "  X2 = \u001b[32mcol_double()\u001b[39m,\n",
      "  X3 = \u001b[32mcol_double()\u001b[39m,\n",
      "  X4 = \u001b[31mcol_character()\u001b[39m,\n",
      "  X5 = \u001b[31mcol_character()\u001b[39m,\n",
      "  X6 = \u001b[31mcol_character()\u001b[39m,\n",
      "  X7 = \u001b[32mcol_double()\u001b[39m,\n",
      "  X8 = \u001b[31mcol_character()\u001b[39m,\n",
      "  X9 = \u001b[31mcol_character()\u001b[39m,\n",
      "  X10 = \u001b[31mcol_character()\u001b[39m,\n",
      "  X11 = \u001b[31mcol_character()\u001b[39m,\n",
      "  X12 = \u001b[31mcol_character()\u001b[39m,\n",
      "  X13 = \u001b[31mcol_character()\u001b[39m,\n",
      "  X14 = \u001b[32mcol_double()\u001b[39m\n",
      ")\n",
      "\n"
     ]
    },
    {
     "data": {
      "text/html": [
       "<table>\n",
       "<caption>A tibble: 6 × 15</caption>\n",
       "<thead>\n",
       "\t<tr><th scope=col>age</th><th scope=col>sex</th><th scope=col>cp</th><th scope=col>trestbps</th><th scope=col>chol</th><th scope=col>fbs</th><th scope=col>restecg</th><th scope=col>thalach</th><th scope=col>exang</th><th scope=col>oldpeak</th><th scope=col>slope</th><th scope=col>ca</th><th scope=col>thal</th><th scope=col>num</th><th scope=col>location</th></tr>\n",
       "\t<tr><th scope=col>&lt;dbl&gt;</th><th scope=col>&lt;dbl&gt;</th><th scope=col>&lt;dbl&gt;</th><th scope=col>&lt;chr&gt;</th><th scope=col>&lt;chr&gt;</th><th scope=col>&lt;chr&gt;</th><th scope=col>&lt;chr&gt;</th><th scope=col>&lt;chr&gt;</th><th scope=col>&lt;chr&gt;</th><th scope=col>&lt;chr&gt;</th><th scope=col>&lt;chr&gt;</th><th scope=col>&lt;chr&gt;</th><th scope=col>&lt;chr&gt;</th><th scope=col>&lt;dbl&gt;</th><th scope=col>&lt;chr&gt;</th></tr>\n",
       "</thead>\n",
       "<tbody>\n",
       "\t<tr><td>28</td><td>1</td><td>2</td><td>130</td><td>132</td><td>0</td><td>2</td><td>185</td><td>0</td><td>0</td><td>?</td><td>?</td><td>?</td><td>0</td><td>Hungarian</td></tr>\n",
       "\t<tr><td>29</td><td>1</td><td>2</td><td>120</td><td>243</td><td>0</td><td>0</td><td>160</td><td>0</td><td>0</td><td>?</td><td>?</td><td>?</td><td>0</td><td>Hungarian</td></tr>\n",
       "\t<tr><td>29</td><td>1</td><td>2</td><td>140</td><td>?  </td><td>0</td><td>0</td><td>170</td><td>0</td><td>0</td><td>?</td><td>?</td><td>?</td><td>0</td><td>Hungarian</td></tr>\n",
       "\t<tr><td>30</td><td>0</td><td>1</td><td>170</td><td>237</td><td>0</td><td>1</td><td>170</td><td>0</td><td>0</td><td>?</td><td>?</td><td>6</td><td>0</td><td>Hungarian</td></tr>\n",
       "\t<tr><td>31</td><td>0</td><td>2</td><td>100</td><td>219</td><td>0</td><td>1</td><td>150</td><td>0</td><td>0</td><td>?</td><td>?</td><td>?</td><td>0</td><td>Hungarian</td></tr>\n",
       "\t<tr><td>32</td><td>0</td><td>2</td><td>105</td><td>198</td><td>0</td><td>0</td><td>165</td><td>0</td><td>0</td><td>?</td><td>?</td><td>?</td><td>0</td><td>Hungarian</td></tr>\n",
       "</tbody>\n",
       "</table>\n"
      ],
      "text/latex": [
       "A tibble: 6 × 15\n",
       "\\begin{tabular}{lllllllllllllll}\n",
       " age & sex & cp & trestbps & chol & fbs & restecg & thalach & exang & oldpeak & slope & ca & thal & num & location\\\\\n",
       " <dbl> & <dbl> & <dbl> & <chr> & <chr> & <chr> & <chr> & <chr> & <chr> & <chr> & <chr> & <chr> & <chr> & <dbl> & <chr>\\\\\n",
       "\\hline\n",
       "\t 28 & 1 & 2 & 130 & 132 & 0 & 2 & 185 & 0 & 0 & ? & ? & ? & 0 & Hungarian\\\\\n",
       "\t 29 & 1 & 2 & 120 & 243 & 0 & 0 & 160 & 0 & 0 & ? & ? & ? & 0 & Hungarian\\\\\n",
       "\t 29 & 1 & 2 & 140 & ?   & 0 & 0 & 170 & 0 & 0 & ? & ? & ? & 0 & Hungarian\\\\\n",
       "\t 30 & 0 & 1 & 170 & 237 & 0 & 1 & 170 & 0 & 0 & ? & ? & 6 & 0 & Hungarian\\\\\n",
       "\t 31 & 0 & 2 & 100 & 219 & 0 & 1 & 150 & 0 & 0 & ? & ? & ? & 0 & Hungarian\\\\\n",
       "\t 32 & 0 & 2 & 105 & 198 & 0 & 0 & 165 & 0 & 0 & ? & ? & ? & 0 & Hungarian\\\\\n",
       "\\end{tabular}\n"
      ],
      "text/markdown": [
       "\n",
       "A tibble: 6 × 15\n",
       "\n",
       "| age &lt;dbl&gt; | sex &lt;dbl&gt; | cp &lt;dbl&gt; | trestbps &lt;chr&gt; | chol &lt;chr&gt; | fbs &lt;chr&gt; | restecg &lt;chr&gt; | thalach &lt;chr&gt; | exang &lt;chr&gt; | oldpeak &lt;chr&gt; | slope &lt;chr&gt; | ca &lt;chr&gt; | thal &lt;chr&gt; | num &lt;dbl&gt; | location &lt;chr&gt; |\n",
       "|---|---|---|---|---|---|---|---|---|---|---|---|---|---|---|\n",
       "| 28 | 1 | 2 | 130 | 132 | 0 | 2 | 185 | 0 | 0 | ? | ? | ? | 0 | Hungarian |\n",
       "| 29 | 1 | 2 | 120 | 243 | 0 | 0 | 160 | 0 | 0 | ? | ? | ? | 0 | Hungarian |\n",
       "| 29 | 1 | 2 | 140 | ?   | 0 | 0 | 170 | 0 | 0 | ? | ? | ? | 0 | Hungarian |\n",
       "| 30 | 0 | 1 | 170 | 237 | 0 | 1 | 170 | 0 | 0 | ? | ? | 6 | 0 | Hungarian |\n",
       "| 31 | 0 | 2 | 100 | 219 | 0 | 1 | 150 | 0 | 0 | ? | ? | ? | 0 | Hungarian |\n",
       "| 32 | 0 | 2 | 105 | 198 | 0 | 0 | 165 | 0 | 0 | ? | ? | ? | 0 | Hungarian |\n",
       "\n"
      ],
      "text/plain": [
       "  age sex cp trestbps chol fbs restecg thalach exang oldpeak slope ca thal num\n",
       "1 28  1   2  130      132  0   2       185     0     0       ?     ?  ?    0  \n",
       "2 29  1   2  120      243  0   0       160     0     0       ?     ?  ?    0  \n",
       "3 29  1   2  140      ?    0   0       170     0     0       ?     ?  ?    0  \n",
       "4 30  0   1  170      237  0   1       170     0     0       ?     ?  6    0  \n",
       "5 31  0   2  100      219  0   1       150     0     0       ?     ?  ?    0  \n",
       "6 32  0   2  105      198  0   0       165     0     0       ?     ?  ?    0  \n",
       "  location \n",
       "1 Hungarian\n",
       "2 Hungarian\n",
       "3 Hungarian\n",
       "4 Hungarian\n",
       "5 Hungarian\n",
       "6 Hungarian"
      ]
     },
     "metadata": {},
     "output_type": "display_data"
    }
   ],
   "source": [
    "#Purpose of the cell: loading the required datasets, mutating and merging them\n",
    "heart_data1 <- read_csv(\"https://archive.ics.uci.edu/ml/machine-learning-databases/heart-disease/processed.hungarian.data\", col_names=FALSE)\n",
    "heart_data2 <- read_csv(\"https://archive.ics.uci.edu/ml/machine-learning-databases/heart-disease/processed.switzerland.data\", col_names=FALSE)\n",
    "heart_data3 <- read_csv(\"https://archive.ics.uci.edu/ml/machine-learning-databases/heart-disease/processed.cleveland.data\", col_names=FALSE)\n",
    "heart_data4 <- read_csv(\"https://archive.ics.uci.edu/ml/machine-learning-databases/heart-disease/processed.va.data\", col_names=FALSE)\n",
    "\n",
    "# After exploring the heart_data-2, we noticed that it is missing value for many key predictors namely, cholestrol.\n",
    "#Therefore, we decided to not use that one and bind the rest together\n",
    "\n",
    "# we want to have almost equal amount of data from each location in our training and testing set and avoid any unluckiness,\n",
    "# such as training out model based on data that are mostly from two locations and testing it on the testing set that\n",
    "# mainly includes the third one. Therefore, we added the location, to use it later when spiliting our data into training and testing set.\n",
    "\n",
    "hungarian_data <- heart_data1 %>%\n",
    "    mutate (location = \"Hungarian\")\n",
    "cleveland_data <- heart_data3 %>%\n",
    "    mutate (location = \"Cleveland\")\n",
    "va_data <- heart_data4 %>%\n",
    "    mutate (location = \"Va\")\n",
    "\n",
    "#merging the data from the various cities \n",
    "heart_data <- rbind (hungarian_data, cleveland_data, va_data)\n",
    "#adding column names to the data \n",
    "colnames(heart_data) <- c(\"age\", \"sex\", \"cp\", \"trestbps\", \"chol\", \"fbs\",  \"restecg\", \"thalach\", \"exang\",  \"oldpeak\", \"slope\",  \"ca\",  \"thal\", \"num\", \"location\")\n",
    "#viewing the data\n",
    "head(heart_data)"
   ]
  },
  {
   "cell_type": "markdown",
   "metadata": {},
   "source": [
    "We continue with tidying the data by altering the “num” from the original dataset by changing the values [0, 4] to either yes or no. In the original dataset, 0 indicates absence of heart-disease and [1,4] all represent presence of the same, just with different magnitude. As we were only concerned with the presence(or absence) of heart disease, we changed the numbers to “yes” or “no”.\n",
    "\n",
    "We then chose our predictors with the following reasoning: Age - People age 65 and older are much more likely than younger people to suffer a heart attack, to have a stroke, or to develop heart disease and heart failure. . This can be due to the heart not being able to beat fast enough during physical activity or times of stress as it did earlier or due to the buildup of fatty deposits in the walls of arteries over the years. It is also evident from our plot that ss age increases, more proportion of people have heart disease; after the dashed line, representing the mean value, the ratio of people with heart disease is higher. Cholesterol: Increased amounts of cholesterol can build up in the wall of your arteries leading to the thinning of the arteries and ultimately leading to less blood flow to the heart muscle. This can lead to various heart diseases and even heart attacks, in some cases Similarly, we can see in our scatter and histogram plots that people with cholesterol of over 200 mg/dl are more likely to have heart disease. Maximum Heart Rate Achieved: A higher heart rate is a good thing that leads to greater fitness A higher heart rate means that the heart is functioning well and is able to pump blood quickly and effectively. Lower maximum heart rate means that either the heart is unable to pump blood at higher speeds or that the person isn't doing activities that allow their heart rate to reach such levels, in most cases. Our plots also show that people who did not get to a certain maximum heart rate, around 140, had a significantly higher chance of heart failure.\n",
    "\n",
    "We did not use the rest of the columns because of three main reasons. Firstly, many of the variables were categorical (or binary), such as \"fbs,\" \"cp,\" \"slope,\" and \"thal,\" and as we are using the euclidean distance in the KNN classification model, we cannot be sure what values to assign to each category. For instance, \"fbs\" is either 0 or 1; zero represents fasting blood sugar of less than 120, and one is for more; these numbers are arbitrarily assigned and are not the best indicators of fasting blood sugar, and we cannot easily reassign numbers. Secondly, some of the columns, including \"oldpeak\" and \"ca\" are missing many values. We decided that adding one less correlated predictor is not worth giving up data on more correlated predictors such as maximum heart rate. Lastly, \"oldpeak\" and some of the other variables, such as \"slope,\" are not commonly accessible, and our main goal of this project is to find an algorithm that can detect heart disease based on accessible information. thalach Finally, we selected the columns that we are going to use in the data analysis and changed the type of \"chol\" and \"thalach\" to numeric as we will be calculating the distance between points and we need numeric-type data. "
   ]
  },
  {
   "cell_type": "code",
   "execution_count": 3,
   "metadata": {
    "scrolled": true,
    "tags": []
   },
   "outputs": [
    {
     "name": "stderr",
     "output_type": "stream",
     "text": [
      "Warning message:\n",
      "“Problem with `mutate()` input `chol`.\n",
      "\u001b[34mℹ\u001b[39m NAs introduced by coercion\n",
      "\u001b[34mℹ\u001b[39m Input `chol` is `as.numeric(chol)`.”\n",
      "Warning message in mask$eval_all_mutate(dots[[i]]):\n",
      "“NAs introduced by coercion”\n",
      "Warning message:\n",
      "“Problem with `mutate()` input `thalach`.\n",
      "\u001b[34mℹ\u001b[39m NAs introduced by coercion\n",
      "\u001b[34mℹ\u001b[39m Input `thalach` is `as.numeric(thalach)`.”\n",
      "Warning message in mask$eval_all_mutate(dots[[i]]):\n",
      "“NAs introduced by coercion”\n"
     ]
    },
    {
     "data": {
      "text/html": [
       "<table>\n",
       "<caption>A data.frame: 6 × 5</caption>\n",
       "<thead>\n",
       "\t<tr><th></th><th scope=col>age</th><th scope=col>chol</th><th scope=col>thalach</th><th scope=col>location</th><th scope=col>heart_disease</th></tr>\n",
       "\t<tr><th></th><th scope=col>&lt;dbl&gt;</th><th scope=col>&lt;dbl&gt;</th><th scope=col>&lt;dbl&gt;</th><th scope=col>&lt;chr&gt;</th><th scope=col>&lt;fct&gt;</th></tr>\n",
       "</thead>\n",
       "<tbody>\n",
       "\t<tr><th scope=row>1</th><td>28</td><td>132</td><td>185</td><td>Hungarian</td><td>N</td></tr>\n",
       "\t<tr><th scope=row>2</th><td>29</td><td>243</td><td>160</td><td>Hungarian</td><td>N</td></tr>\n",
       "\t<tr><th scope=row>3</th><td>29</td><td> NA</td><td>170</td><td>Hungarian</td><td>N</td></tr>\n",
       "\t<tr><th scope=row>4</th><td>30</td><td>237</td><td>170</td><td>Hungarian</td><td>N</td></tr>\n",
       "\t<tr><th scope=row>5</th><td>31</td><td>219</td><td>150</td><td>Hungarian</td><td>N</td></tr>\n",
       "\t<tr><th scope=row>6</th><td>32</td><td>198</td><td>165</td><td>Hungarian</td><td>N</td></tr>\n",
       "</tbody>\n",
       "</table>\n"
      ],
      "text/latex": [
       "A data.frame: 6 × 5\n",
       "\\begin{tabular}{r|lllll}\n",
       "  & age & chol & thalach & location & heart\\_disease\\\\\n",
       "  & <dbl> & <dbl> & <dbl> & <chr> & <fct>\\\\\n",
       "\\hline\n",
       "\t1 & 28 & 132 & 185 & Hungarian & N\\\\\n",
       "\t2 & 29 & 243 & 160 & Hungarian & N\\\\\n",
       "\t3 & 29 &  NA & 170 & Hungarian & N\\\\\n",
       "\t4 & 30 & 237 & 170 & Hungarian & N\\\\\n",
       "\t5 & 31 & 219 & 150 & Hungarian & N\\\\\n",
       "\t6 & 32 & 198 & 165 & Hungarian & N\\\\\n",
       "\\end{tabular}\n"
      ],
      "text/markdown": [
       "\n",
       "A data.frame: 6 × 5\n",
       "\n",
       "| <!--/--> | age &lt;dbl&gt; | chol &lt;dbl&gt; | thalach &lt;dbl&gt; | location &lt;chr&gt; | heart_disease &lt;fct&gt; |\n",
       "|---|---|---|---|---|---|\n",
       "| 1 | 28 | 132 | 185 | Hungarian | N |\n",
       "| 2 | 29 | 243 | 160 | Hungarian | N |\n",
       "| 3 | 29 |  NA | 170 | Hungarian | N |\n",
       "| 4 | 30 | 237 | 170 | Hungarian | N |\n",
       "| 5 | 31 | 219 | 150 | Hungarian | N |\n",
       "| 6 | 32 | 198 | 165 | Hungarian | N |\n",
       "\n"
      ],
      "text/plain": [
       "  age chol thalach location  heart_disease\n",
       "1 28  132  185     Hungarian N            \n",
       "2 29  243  160     Hungarian N            \n",
       "3 29   NA  170     Hungarian N            \n",
       "4 30  237  170     Hungarian N            \n",
       "5 31  219  150     Hungarian N            \n",
       "6 32  198  165     Hungarian N            "
      ]
     },
     "metadata": {},
     "output_type": "display_data"
    },
    {
     "data": {
      "text/html": [
       "<table>\n",
       "<caption>A data.frame: 797 × 5</caption>\n",
       "<thead>\n",
       "\t<tr><th scope=col>age</th><th scope=col>chol</th><th scope=col>thalach</th><th scope=col>location</th><th scope=col>heart_disease</th></tr>\n",
       "\t<tr><th scope=col>&lt;dbl&gt;</th><th scope=col>&lt;dbl&gt;</th><th scope=col>&lt;dbl&gt;</th><th scope=col>&lt;chr&gt;</th><th scope=col>&lt;fct&gt;</th></tr>\n",
       "</thead>\n",
       "<tbody>\n",
       "\t<tr><td>28</td><td>132</td><td>185</td><td>Hungarian</td><td>N</td></tr>\n",
       "\t<tr><td>29</td><td>243</td><td>160</td><td>Hungarian</td><td>N</td></tr>\n",
       "\t<tr><td>29</td><td> NA</td><td>170</td><td>Hungarian</td><td>N</td></tr>\n",
       "\t<tr><td>⋮</td><td>⋮</td><td>⋮</td><td>⋮</td><td>⋮</td></tr>\n",
       "\t<tr><td>55</td><td>223</td><td>100</td><td>Va</td><td>Y</td></tr>\n",
       "\t<tr><td>58</td><td>385</td><td> NA</td><td>Va</td><td>N</td></tr>\n",
       "\t<tr><td>62</td><td>254</td><td> 93</td><td>Va</td><td>Y</td></tr>\n",
       "</tbody>\n",
       "</table>\n"
      ],
      "text/latex": [
       "A data.frame: 797 × 5\n",
       "\\begin{tabular}{lllll}\n",
       " age & chol & thalach & location & heart\\_disease\\\\\n",
       " <dbl> & <dbl> & <dbl> & <chr> & <fct>\\\\\n",
       "\\hline\n",
       "\t 28 & 132 & 185 & Hungarian & N\\\\\n",
       "\t 29 & 243 & 160 & Hungarian & N\\\\\n",
       "\t 29 &  NA & 170 & Hungarian & N\\\\\n",
       "\t ⋮ & ⋮ & ⋮ & ⋮ & ⋮\\\\\n",
       "\t 55 & 223 & 100 & Va & Y\\\\\n",
       "\t 58 & 385 &  NA & Va & N\\\\\n",
       "\t 62 & 254 &  93 & Va & Y\\\\\n",
       "\\end{tabular}\n"
      ],
      "text/markdown": [
       "\n",
       "A data.frame: 797 × 5\n",
       "\n",
       "| age &lt;dbl&gt; | chol &lt;dbl&gt; | thalach &lt;dbl&gt; | location &lt;chr&gt; | heart_disease &lt;fct&gt; |\n",
       "|---|---|---|---|---|\n",
       "| 28 | 132 | 185 | Hungarian | N |\n",
       "| 29 | 243 | 160 | Hungarian | N |\n",
       "| 29 |  NA | 170 | Hungarian | N |\n",
       "| ⋮ | ⋮ | ⋮ | ⋮ | ⋮ |\n",
       "| 55 | 223 | 100 | Va | Y |\n",
       "| 58 | 385 |  NA | Va | N |\n",
       "| 62 | 254 |  93 | Va | Y |\n",
       "\n"
      ],
      "text/plain": [
       "    age chol thalach location  heart_disease\n",
       "1   28  132  185     Hungarian N            \n",
       "2   29  243  160     Hungarian N            \n",
       "3   29   NA  170     Hungarian N            \n",
       "⋮   ⋮   ⋮    ⋮       ⋮         ⋮            \n",
       "795 55  223  100     Va        Y            \n",
       "796 58  385   NA     Va        N            \n",
       "797 62  254   93     Va        Y            "
      ]
     },
     "metadata": {},
     "output_type": "display_data"
    }
   ],
   "source": [
    "#tidying the data further by modifying num column to show weather the patient has heart disease or not\n",
    "num <- heart_data %>%\n",
    "    select (num) %>%\n",
    "    mutate (num = as.character (num))\n",
    "num [num == \"1\"] <- \"Y\"\n",
    "num [num == \"2\"] <- \"Y\"\n",
    "num [num == \"3\"] <- \"Y\"\n",
    "num [num == \"4\"] <- \"Y\"\n",
    "num [num == \"0\"] <- \"N\"\n",
    "num <- num %>%\n",
    " mutate (num = as_factor (num))\n",
    "#selecting the required columns \n",
    "# we are selecting the three predictors that we are using for this analysis. \n",
    "#The rest of the columns either were not numerical values or did not have a clear correlation with heart disease.\n",
    "\n",
    "heart_data_selected <- heart_data%>%\n",
    "    select (age, chol, thalach, location)\n",
    "#merging the data again \n",
    "heart_data_merged <- cbind(heart_data_selected, num) %>%\n",
    "    rename (\"heart_disease\" = \"num\")\n",
    "#changing the data types of some columns \n",
    "heart_data_final <- heart_data_merged %>%\n",
    "     mutate (chol = as.numeric (chol),\n",
    "            thalach = as.numeric (thalach))           \n",
    "head(heart_data_final)\n",
    "\n",
    "heart_data_final"
   ]
  },
  {
   "cell_type": "markdown",
   "metadata": {},
   "source": [
    "As talked about earlier, to make sure the data is represented(based on their location) proportionally in both the training and testing data. We split the data into different data sets based on the location column that we added earlier. Then, the location specific data was split into testing and training data. Now, we have location specific training and testing data which can be merged together to make up our final testing and training data. \n",
    "Before proceeding with the splitting, we set the seed to ensure the reproducibility of the data as the process of splitting the data into training and testing involves randomness. "
   ]
  },
  {
   "cell_type": "code",
   "execution_count": 4,
   "metadata": {},
   "outputs": [],
   "source": [
    "# seperating the data into different data set based on their location\n",
    "set.seed(1)\n",
    "\n",
    "   \n",
    "hungarian_data_cleaned <- heart_data_final %>%\n",
    "    filter (location == \"Hungarian\") %>%\n",
    "    na.omit () %>%\n",
    "    filter (chol != 0)\n",
    "\n",
    "cleveland_data_cleaned <- heart_data_final %>%\n",
    "    filter (location == \"Cleveland\") %>%\n",
    "    na.omit () %>%\n",
    "    filter (chol != 0)\n",
    "\n",
    "va_data_cleaned <- heart_data_final %>%\n",
    "    filter (location == \"Va\") %>%\n",
    "    na.omit () %>%\n",
    "    filter (chol != 0)\n",
    "\n",
    "# spliting the data into training and testing for each of those locations\n",
    "\n",
    "heart_data_split_hung <- initial_split(hungarian_data_cleaned, prop=.75, strata = heart_disease)\n",
    "heart_data_training_hung <- training(heart_data_split_hung) \n",
    "heart_data_testing_hung <- testing(heart_data_split_hung)\n",
    "\n",
    "heart_data_split_clev <- initial_split(cleveland_data_cleaned, prop=.75, strata = heart_disease)\n",
    "heart_data_training_clev <- training(heart_data_split_clev) \n",
    "heart_data_testing_clev <- testing(heart_data_split_clev)\n",
    "\n",
    "heart_data_split_va <- initial_split(va_data_cleaned, prop=.75, strata = heart_disease)\n",
    "heart_data_training_va <- training(heart_data_split_va) \n",
    "heart_data_testing_va <- testing(heart_data_split_va)\n",
    "\n",
    "#putting all of the training-set together\n",
    "heart_data_training <- rbind (heart_data_training_hung, heart_data_training_clev, heart_data_training_va)\n",
    "\n",
    "\n",
    "#putting all of the testing-set together\n",
    "heart_data_testing <- rbind (heart_data_testing_hung, heart_data_testing_clev, heart_data_testing_va)\n",
    "\n"
   ]
  },
  {
   "cell_type": "markdown",
   "metadata": {},
   "source": [
    "Now, we move on to summarising the data. Firstly, we calculated the mean of the three predictors: age, chol, thalach (maximum heart rate). After calculating the mean, we presented it in the form of a table that has been tidied using the pivot longer function to aid in readability of the reader. Second, we calculated the number of NAs in each of the columns to get an idea of the missing values in our dataset. Lastly, we ascertained the proportion of people with heart disease in our final dataset and proportion of people without heart disease. \n"
   ]
  },
  {
   "cell_type": "code",
   "execution_count": 5,
   "metadata": {},
   "outputs": [
    {
     "data": {
      "text/html": [
       "<table>\n",
       "<caption>A tibble: 3 × 2</caption>\n",
       "<thead>\n",
       "\t<tr><th scope=col>predictors</th><th scope=col>mean</th></tr>\n",
       "\t<tr><th scope=col>&lt;chr&gt;</th><th scope=col>&lt;dbl&gt;</th></tr>\n",
       "</thead>\n",
       "<tbody>\n",
       "\t<tr><td>age    </td><td> 52.27308</td></tr>\n",
       "\t<tr><td>chol   </td><td>244.27898</td></tr>\n",
       "\t<tr><td>thalach</td><td>141.14342</td></tr>\n",
       "</tbody>\n",
       "</table>\n"
      ],
      "text/latex": [
       "A tibble: 3 × 2\n",
       "\\begin{tabular}{ll}\n",
       " predictors & mean\\\\\n",
       " <chr> & <dbl>\\\\\n",
       "\\hline\n",
       "\t age     &  52.27308\\\\\n",
       "\t chol    & 244.27898\\\\\n",
       "\t thalach & 141.14342\\\\\n",
       "\\end{tabular}\n"
      ],
      "text/markdown": [
       "\n",
       "A tibble: 3 × 2\n",
       "\n",
       "| predictors &lt;chr&gt; | mean &lt;dbl&gt; |\n",
       "|---|---|\n",
       "| age     |  52.27308 |\n",
       "| chol    | 244.27898 |\n",
       "| thalach | 141.14342 |\n",
       "\n"
      ],
      "text/plain": [
       "  predictors mean     \n",
       "1 age         52.27308\n",
       "2 chol       244.27898\n",
       "3 thalach    141.14342"
      ]
     },
     "metadata": {},
     "output_type": "display_data"
    },
    {
     "data": {
      "text/html": [
       "<table>\n",
       "<caption>A tibble: 4 × 2</caption>\n",
       "<thead>\n",
       "\t<tr><th scope=col>predictors</th><th scope=col>number_of_nas</th></tr>\n",
       "\t<tr><th scope=col>&lt;chr&gt;</th><th scope=col>&lt;int&gt;</th></tr>\n",
       "</thead>\n",
       "<tbody>\n",
       "\t<tr><td>age          </td><td> 0</td></tr>\n",
       "\t<tr><td>chol         </td><td>30</td></tr>\n",
       "\t<tr><td>thalach      </td><td>54</td></tr>\n",
       "\t<tr><td>heart_disease</td><td> 0</td></tr>\n",
       "</tbody>\n",
       "</table>\n"
      ],
      "text/latex": [
       "A tibble: 4 × 2\n",
       "\\begin{tabular}{ll}\n",
       " predictors & number\\_of\\_nas\\\\\n",
       " <chr> & <int>\\\\\n",
       "\\hline\n",
       "\t age           &  0\\\\\n",
       "\t chol          & 30\\\\\n",
       "\t thalach       & 54\\\\\n",
       "\t heart\\_disease &  0\\\\\n",
       "\\end{tabular}\n"
      ],
      "text/markdown": [
       "\n",
       "A tibble: 4 × 2\n",
       "\n",
       "| predictors &lt;chr&gt; | number_of_nas &lt;int&gt; |\n",
       "|---|---|\n",
       "| age           |  0 |\n",
       "| chol          | 30 |\n",
       "| thalach       | 54 |\n",
       "| heart_disease |  0 |\n",
       "\n"
      ],
      "text/plain": [
       "  predictors    number_of_nas\n",
       "1 age            0           \n",
       "2 chol          30           \n",
       "3 thalach       54           \n",
       "4 heart_disease  0           "
      ]
     },
     "metadata": {},
     "output_type": "display_data"
    },
    {
     "name": "stderr",
     "output_type": "stream",
     "text": [
      "`summarise()` ungrouping output (override with `.groups` argument)\n",
      "\n"
     ]
    },
    {
     "data": {
      "text/html": [
       "<table>\n",
       "<caption>A tibble: 2 × 3</caption>\n",
       "<thead>\n",
       "\t<tr><th scope=col>heart_disease</th><th scope=col>observation_number</th><th scope=col>percent</th></tr>\n",
       "\t<tr><th scope=col>&lt;fct&gt;</th><th scope=col>&lt;int&gt;</th><th scope=col>&lt;dbl&gt;</th></tr>\n",
       "</thead>\n",
       "<tbody>\n",
       "\t<tr><td>N</td><td>268</td><td>52.65226</td></tr>\n",
       "\t<tr><td>Y</td><td>241</td><td>47.34774</td></tr>\n",
       "</tbody>\n",
       "</table>\n"
      ],
      "text/latex": [
       "A tibble: 2 × 3\n",
       "\\begin{tabular}{lll}\n",
       " heart\\_disease & observation\\_number & percent\\\\\n",
       " <fct> & <int> & <dbl>\\\\\n",
       "\\hline\n",
       "\t N & 268 & 52.65226\\\\\n",
       "\t Y & 241 & 47.34774\\\\\n",
       "\\end{tabular}\n"
      ],
      "text/markdown": [
       "\n",
       "A tibble: 2 × 3\n",
       "\n",
       "| heart_disease &lt;fct&gt; | observation_number &lt;int&gt; | percent &lt;dbl&gt; |\n",
       "|---|---|---|\n",
       "| N | 268 | 52.65226 |\n",
       "| Y | 241 | 47.34774 |\n",
       "\n"
      ],
      "text/plain": [
       "  heart_disease observation_number percent \n",
       "1 N             268                52.65226\n",
       "2 Y             241                47.34774"
      ]
     },
     "metadata": {},
     "output_type": "display_data"
    }
   ],
   "source": [
    "#Goal of the cell: summarizing the data \n",
    "\n",
    "heart_data_cleaned_final <- heart_data_final %>%\n",
    "    select (- location)\n",
    "\n",
    "#calculating the mean \n",
    "predictors_mean <- heart_data_training %>%\n",
    "    summarize(across (age:thalach, mean, na.rm = TRUE))\n",
    "\n",
    "#using pivot_longer to show the mean value of each column in a table\n",
    "predictors_mean_final <- pivot_longer(predictors_mean, \n",
    "                               cols = age:thalach, \n",
    "                               names_to = \"predictors\",\n",
    "                              values_to = \"mean\")\n",
    "predictors_mean_final\n",
    "\n",
    "#counting the missing data \n",
    "na_count <- map_df(heart_data_cleaned_final, ~sum(is.na(.)))\n",
    "#using pivot_longer to show the number of NAs in a table\n",
    "na_count_final <- pivot_longer(na_count,\n",
    "                               cols = age:heart_disease,\n",
    "                               names_to = \"predictors\",\n",
    "                              values_to = \"number_of_nas\")\n",
    "na_count_final\n",
    "\n",
    "#Proportion of heart disease \n",
    "heart_disease_proportion <- heart_data_training %>%\n",
    "    group_by (heart_disease) %>%\n",
    "    summarize (observation_number = n()) %>%\n",
    "    mutate (percent = 100*observation_number/nrow(heart_data_training))\n",
    "heart_disease_proportion  "
   ]
  },
  {
   "cell_type": "markdown",
   "metadata": {},
   "source": [
    "Now, we visualise the data to get an insight into the data and use it to aid in choosing the predictors. Firstly, we visualise the data using scatterplots where we plotted 2 of the 3 predictors on the axes. Also, the points were coloured based on whether they represent “yes” or “no” in the heart disease column. This allowed us to gain some insight which was used to select the predictor variables. After the scatterplot, we used histograms to display the distribution of the predictors over various values of that particular predictor. Again, we colour coded the histogram to represent the ‘yes’ or ‘no’ under the heart disease column. This again allowed us to gain insight similar to that from the scatterplot which was used to select predictors. "
   ]
  },
  {
   "cell_type": "code",
   "execution_count": 6,
   "metadata": {
    "tags": []
   },
   "outputs": [
    {
     "ename": "ERROR",
     "evalue": "Error in arrangeGrob(...): object 'trestbps_age' not found\n",
     "output_type": "error",
     "traceback": [
      "Error in arrangeGrob(...): object 'trestbps_age' not found\nTraceback:\n",
      "1. grid.arrange(age_chol, trestbps_age, thalach_trestbps, nrow = 2)",
      "2. arrangeGrob(...)"
     ]
    }
   ],
   "source": [
    "#visualising the data \n",
    "\n",
    "#changing the plot size \n",
    "options(repr.plot.height = 10, repr.plot.width=17)\n",
    "\n",
    "# part 1: geom-points\n",
    "\n",
    "age_chol <- heart_data_training %>% \n",
    "filter (chol != 0) %>%\n",
    "ggplot(aes(x = age, y = chol, color = heart_disease)) + \n",
    "geom_point(stat = \"identity\", alpha = 0.5)+ \n",
    "labs(x=\"Age (in years)\", y = \"Serum cholestoral in mg/dl\")+\n",
    "theme (text = element_text (size = 15))\n",
    "\n",
    "thalach_age <- heart_data_training %>% \n",
    "ggplot(aes(x = thalach, y = age, color = heart_disease)) + \n",
    "geom_point(stat = \"identity\", alpha = 0.5)+\n",
    "labs(x = \"Maximum Heart Rate Achieved\", y= \"Age (in years)\")+\n",
    "theme (text = element_text (size = 15))\n",
    "\n",
    "chol_thalach <- heart_data_training %>% \n",
    "filter (chol != 0) %>%\n",
    "ggplot(aes(x = chol, y = thalach , color = heart_disease)) + \n",
    "geom_point(stat = \"identity\", alpha = 0.5)+\n",
    "labs(x = \"Serum cholestoral in mg/dl\" , y= \"Maximum Heart Rate Achieved\")+\n",
    "theme (text = element_text (size = 15))\n",
    "\n",
    "grid.arrange(age_chol, trestbps_age, thalach_trestbps, nrow=2)\n",
    "\n",
    "# part 2: histograms\n",
    "age_plot <- heart_data_training %>% \n",
    "ggplot(aes(x = age, fill = as_factor(heart_disease))) + \n",
    "geom_histogram(alpha=0.5, position = \"identity\") + \n",
    "geom_vline(xintercept = 53.4350, linetype=\"dashed\", size = 1.1)+\n",
    "labs(x=\"Age (in years)\", fill = \"Presence of Heart Disease\")+\n",
    "theme (text = element_text (size = 15))\n",
    "\n",
    "chol_plot <- heart_data_training %>% \n",
    "    filter (chol != 0) %>%\n",
    "ggplot(aes(x = chol, fill = as_factor(heart_disease))) + \n",
    "geom_histogram(alpha=0.5, position = \"identity\") + \n",
    "geom_vline(xintercept = 232.4731, linetype=\"dashed\", size = 1.1)+\n",
    "labs(x=\"Serum cholestoral in mg/dl\", fill = \"Presence of Heart Disease\")+\n",
    "theme (text = element_text (size = 15))\n",
    "\n",
    "thalach_plot <- heart_data_training %>% \n",
    "ggplot(aes(x = thalach, fill = as_factor(heart_disease))) + \n",
    "geom_histogram(alpha=0.5, position = \"identity\") +\n",
    "geom_vline(xintercept = 140.3143, linetype=\"dashed\", size = 1.1)+\n",
    "labs(x = \"Maximum Heart Rate Achieved\", fill = \"Presence of Heart Disease\")+\n",
    "theme (text = element_text (size = 15))\n",
    "\n",
    "grid.arrange(age_plot, chol_plot, thalach_plot, nrow=2)\n",
    "\n",
    "\n",
    "# Side notes:\n",
    "# the added dashed lines for histograms represents the mean value of each predictor\n",
    "# the 0 cholestrols are filtered for the purpose of better visualization\n"
   ]
  },
  {
   "cell_type": "markdown",
   "metadata": {},
   "source": [
    "After the visualization, we moved on to the actual classification part of the project. We started by omitting the NAs in our data to aid in classification. Afterwards, we created a recipe where we specified the predictor variables for the data along with standardizing the data as KNN classification relies on calculating the euclidean distance. Then, we created the spec where we specified the engine, the mode, and the formula that will be used to calculate the distance. \n"
   ]
  },
  {
   "cell_type": "code",
   "execution_count": null,
   "metadata": {},
   "outputs": [],
   "source": [
    "#make a recipe\n",
    "set.seed(1)\n",
    "\n",
    "\n",
    "heart_recipe <- recipe (heart_disease ~  age + chol + thalach , heart_data_training) %>%\n",
    "    step_scale (all_predictors()) %>%\n",
    "    step_center (all_predictors()) \n",
    "heart_recipe\n",
    "\n",
    "heart_spec <- nearest_neighbor (weight_func = \"rectangular\", neighbors = tune()) %>%\n",
    "    set_engine (\"kknn\") %>%\n",
    "    set_mode (\"classification\")\n",
    "heart_spec\n"
   ]
  },
  {
   "cell_type": "markdown",
   "metadata": {},
   "source": [
    "Next, we created a tibble with various values of K and also created a vfold so that we can do cross validation. This was done to determine the best value of k which would give us the highest accuracy. Cross validation is done to make sure  our accuracy is not affected too much by data that ends in the training and the validation data set. Lastly, we combine it all into a workflow where the recipe and the spec is specified. We then collect the metrics(accuracy) and then plot it onto a plot which shows the accuracy associated with the respective value of K. "
   ]
  },
  {
   "cell_type": "code",
   "execution_count": null,
   "metadata": {},
   "outputs": [],
   "source": [
    "k_table <- tibble (neighbors = seq (1, 25))\n",
    "\n",
    "heart_vfold <- vfold_cv (heart_data_training, v = 5, strata= heart_disease)\n",
    "\n",
    "heart_workflow <- workflow()%>%\n",
    "    add_recipe (heart_recipe) %>%\n",
    "    add_model (heart_spec) %>%\n",
    "    tune_grid (resamples = heart_vfold, grid = k_table) %>%\n",
    "    collect_metrics () %>%\n",
    "    filter (.metric == \"accuracy\")   \n",
    "heart_workflow\n",
    "\n",
    "heart_max_k <- heart_workflow %>%\n",
    "    select (mean, neighbors) %>%\n",
    "    arrange (desc (mean)) %>%\n",
    "    slice (1) \n",
    "heart_max_k\n",
    "\n",
    "heart_vs_k_plot <- ggplot (heart_workflow, aes (x = neighbors, y = mean)) + \n",
    "        geom_point () +\n",
    "        geom_line () +\n",
    "        labs (x = \"Neighbors\", y = \"accuracy\")\n",
    "heart_vs_k_plot\n"
   ]
  },
  {
   "cell_type": "code",
   "execution_count": null,
   "metadata": {},
   "outputs": [],
   "source": [
    "set.seed(1)\n",
    "knn_spec <- nearest_neighbor(weight_func = \"rectangular\", neighbors = 21) %>%\n",
    "    set_engine(\"kknn\")%>%\n",
    "    set_mode(\"classification\")\n",
    "\n",
    "knn_fit <- workflow()%>%\n",
    "    add_recipe(heart_recipe)%>%\n",
    "    add_model(knn_spec) %>%\n",
    "    fit(data = heart_data_training)\n",
    "\n",
    "heart_test_predictions <- predict(knn_fit, heart_data_testing) %>%\n",
    "  bind_cols(heart_data_testing)\n",
    "\n",
    "\n",
    "heart_test_predictions_estimates <- heart_test_predictions %>%\n",
    "  metrics(truth = heart_disease, estimate = .pred_class)%>%\n",
    "  filter(.metric == \"accuracy\")\n",
    "heart_test_predictions_estimates\n",
    "\n",
    "confusion_metric <- heart_test_predictions %>%\n",
    "    conf_mat(truth = heart_disease, estimate = .pred_class)\n",
    "confusion_metric"
   ]
  },
  {
   "cell_type": "code",
   "execution_count": null,
   "metadata": {},
   "outputs": [],
   "source": [
    "#Vissualization\n",
    "#the actual plot vs the one that we predict\n",
    "options(repr.plot.height = 7, repr.plot.width=22)\n",
    "\n",
    "\n",
    "age_chol_true <- heart_data_testing %>% \n",
    "    ggplot(aes(x = age, y = chol, color = heart_disease)) + \n",
    "    geom_point(stat = \"identity\", alpha = 0.5)+ \n",
    "    labs(x=\"Age (in years)\", y = \"Serum cholestoral in mg/dl\")+\n",
    "    theme (text = element_text (size = 15)) +\n",
    "    scale_color_manual(values = c(\"Y\" = \"DarkBlue\", \"N\" = \"Red\")) +\n",
    "    ggtitle (\"Age vs chol the ture class value\")\n",
    "\n",
    "\n",
    "age_chol_pred <- heart_test_predictions %>% \n",
    "    ggplot(aes(x = age, y = chol, color = .pred_class)) + \n",
    "    geom_point(stat = \"identity\", alpha = 0.5)+ \n",
    "    labs(x=\"Age (in years)\", y = \"Serum cholestoral in mg/dl\")+\n",
    "    theme (text = element_text (size = 15)) +\n",
    "    scale_color_manual(values = c(\"Y\" = \"DarkBlue\", \"N\" = \"Red\")) +\n",
    "    ggtitle (\"Age vs chol the predicted class value\")\n",
    "\n",
    "\n",
    "grid.arrange(age_chol_true, age_chol_pred, nrow=1)\n",
    "\n",
    "thalach_age_true <- heart_test_predictions %>% \n",
    "    ggplot(aes(x = thalach, y = age, color = heart_disease)) + \n",
    "    geom_point(stat = \"identity\", alpha = 0.5)+\n",
    "    labs(x = \"Maximum Heart Rate Achieved\", y= \"Age (in years)\")+\n",
    "    theme (text = element_text (size = 15)) +\n",
    "    scale_color_manual(values = c(\"Y\" = \"DarkBlue\", \"N\" = \"Red\")) +\n",
    "    ggtitle (\"Maximum heart rate vs age the ture class value\")\n",
    "\n",
    "thalach_age_pred <- heart_test_predictions %>% \n",
    "    ggplot(aes(x = thalach, y = age, color = .pred_class)) + \n",
    "    geom_point(stat = \"identity\", alpha = 0.5)+\n",
    "    labs(x = \"Maximum Heart Rate Achieved\", y= \"Age (in years)\")+\n",
    "    theme (text = element_text (size = 15))+\n",
    "    scale_color_manual(values = c(\"Y\" = \"DarkBlue\", \"N\" = \"Red\")) +\n",
    "    ggtitle (\"Maximum heart rate vs age the predicted class value\")\n",
    "\n",
    "grid.arrange(thalach_age_true, thalach_age_pred, nrow=1)\n",
    "\n",
    "chol_thalach_true<- heart_test_predictions %>% \n",
    "    ggplot(aes(x = chol, y = thalach , color = heart_disease)) + \n",
    "    geom_point(stat = \"identity\", alpha = 0.5)+\n",
    "    labs(x = \"Serum cholestoral in mg/dl\" , y= \"Maximum Heart Rate Achieved\")+\n",
    "    theme (text = element_text (size = 15))+\n",
    "    scale_color_manual(values = c(\"Y\" = \"DarkBlue\", \"N\" = \"Red\")) +\n",
    "    ggtitle (\"Cholestrol vs maximum hear rate the ture class value\")\n",
    "\n",
    "chol_thalach_pred <- heart_test_predictions %>% \n",
    "    ggplot(aes(x = chol, y = thalach , color = .pred_class)) + \n",
    "    geom_point(stat = \"identity\", alpha = 0.5)+\n",
    "    labs(x = \"Serum cholestoral in mg/dl\" , y= \"Maximum Heart Rate Achieved\")+\n",
    "    theme (text = element_text (size = 15)) +\n",
    "    scale_color_manual(values = c(\"Y\" = \"DarkBlue\", \"N\" = \"Red\")) +\n",
    "    ggtitle (\"Cholestrol vs maximum hear rate the predicted class value\")\n",
    "\n",
    "grid.arrange(chol_thalach_true, chol_thalach_pred, nrow=1)"
   ]
  },
  {
   "cell_type": "markdown",
   "metadata": {},
   "source": [
    "## Methods\n",
    "\n",
    "The variables we plan on using in our model are: \n",
    "1. Age - [People age 65 and older are much more likely than younger people to suffer a heart attack, to have a stroke, or to develop heart disease and heart failure. ](https://www.nia.nih.gov/health/heart-health-and-aging). This can be due to the heart not being able to beat fast enough during physical activity or times of stress as it did earlier or due to the buildup of fatty deposits in the walls of arteries over the years. It is also evident from our plot that ss age increases, more proportion of people have heart disease; after the dashed line, representing the mean value, the ratio of people with heart disease is higher.\n",
    "2. Cholesterol: [Increased amounts of cholesterol can build up in the wall of your arteries leading to the thinning of the arteries and ultimately leading to less blood flow to the heart muscle. This can lead to various heart diseases and even heart attacks, in some cases](https://www.webmd.com/heart-disease/guide/heart-disease-lower-cholesterol-risk) Similarly, we can see in our scatter and histogram plots that people with cholesterol of over 200 mg/dl are more likely to have heart disease.\n",
    "3. Maximum Heart Rate Achieved: [A higher heart rate is a good thing that leads to greater fitness](https://www.hopkinsmedicine.org/health/wellness-and-prevention/understanding-your-target-heart-rate) A higher heart rate means that the heart is functioning well and is able to pump blood quickly and effectively. Lower maximum heart rate means that either the heart is unable to pump blood at higher speeds or that the person isn't doing activities that allow their heart rate to reach such levels, in most cases. Our plots also show that people who did not get to a certain maximum heart rate, around 140, had a significantly higher chance of heart failure. Furthermore, we are going to use the K-nearest neighbours classification algorithm to classify the new data points. We will first use our training data set to create a recipe and tuning and train the classifier using the cross-validation method. We then make predictions and evaluate our prediction's accuracy using the testing data set and visualize the result in the last step. To visualize the result of our analysis, we propose dividing the predictor variables into certain fixed intervals and figuring out what percentage of the people within that interval actually have heart diseases. This will allow us to create a bar chart with the percentage of people with heart disease on the y-axis and the intervals on the x-axis. In conjunction with this, we can also add an additional bar on each interval depicting the percentage of people with heart disease according to our classification model. This will allow us to see the relationship of the predictors with the target variable on the testing set and also allow us to judge the accuracy of our model.\n"
   ]
  },
  {
   "cell_type": "markdown",
   "metadata": {},
   "source": [
    "## Expected Outcomes and Significance "
   ]
  },
  {
   "cell_type": "markdown",
   "metadata": {},
   "source": [
    "1-We are expecting to find that people with age higher than 50, Serum cholesterol greater than 200 mg/dl and maximum heart rate achieved less than 140  have heart disease.\n",
    "\n",
    "2-According to this model, we will be able to predict whether people have heart disease early. So we can give them treatment early and therefore reduce the severity and mortality of heart disease. This will also give us an insight into what causes heart disease and allow for the prevention of heart diseases. \n",
    "\n",
    "3-Instead of predicting whether someone has heart disease or not, we can move over to predict the possibility of the person having heart disease. This will be much better at reducing mortality as even if the person does not have heart disease, we can see if they are at high risk for the disease and treat accordingly."
   ]
  }
 ],
 "metadata": {
  "kernelspec": {
   "display_name": "R",
   "language": "R",
   "name": "ir"
  },
  "language_info": {
   "codemirror_mode": "r",
   "file_extension": ".r",
   "mimetype": "text/x-r-source",
   "name": "R",
   "pygments_lexer": "r",
   "version": "4.0.0"
  }
 },
 "nbformat": 4,
 "nbformat_minor": 5
}
